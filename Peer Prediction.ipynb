{
 "cells": [
  {
   "cell_type": "markdown",
   "metadata": {},
   "source": [
    "So my first approach for a predictor of rating was as follows: For each user, find any correlation between their ratings of films and other users’ ratings of films, with the idea that if two people show a strong correlation between their ratings of films,  then if person one has seen a film that person two has not, it is likely that if person one likes it then person two will also (and of course if person one did not like it then person two would also not like it)."
   ]
  },
  {
   "cell_type": "code",
   "execution_count": 1,
   "metadata": {
    "collapsed": true
   },
   "outputs": [],
   "source": [
    "library(plyr)\n",
    "library(ggplot2)\n",
    "\n",
    "movies <- read.csv(\"C:/Users/matt/Downloads/ml-20m/ml-20m/movies.csv\",stringsAsFactors = FALSE)\n",
    "#genomeScores <- read.csv(\"C:/Users/matt/Downloads/ml-20m/ml-20m/genome-scores.csv\",stringsAsFactors = FALSE)\n",
    "#genomeTags <- read.csv(\"C:/Users/matt/Downloads/ml-20m/ml-20m/genome-tags.csv\",stringsAsFactors = FALSE)\n",
    "#links <- read.csv(\"C:/Users/matt/Downloads/ml-20m/ml-20m/links.csv\",stringsAsFactors = FALSE)\n",
    "#tags <- read.csv(\"C:/Users/matt/Downloads/ml-20m/ml-20m/tags.csv\",stringsAsFactors = FALSE)"
   ]
  },
  {
   "cell_type": "code",
   "execution_count": 2,
   "metadata": {
    "collapsed": true
   },
   "outputs": [],
   "source": [
    "\n",
    "#ratings <- read.csv(\"C:/Users/matt/Downloads/ml-20m/ml-20m/ratings.csv\",stringsAsFactors = FALSE)\n",
    "#randomRatings <- ratings[sample(nrow(ratings)),]\n",
    "#trainingRatings <- randomRatings [1:16000000,]\n",
    "#testRatings <- randomRatings [16000001:nrow(randomRatings),]\n",
    "#write.table(trainingRatings,\"C:/temp/trainingRatings.txt\")\n",
    "#write.table(testRatings,\"C:/temp/testRatings.txt\")\n",
    "\n",
    "\n",
    "#testRating <- read.table(\"C:/temp/testRatings.txt\")\n"
   ]
  },
  {
   "cell_type": "markdown",
   "metadata": {},
   "source": [
    "Randomised the order of the ratings.csv file, then saved the first 16 million to a training file and the remaining roughly 4 million to a test file. Commented out here so that it doesn't need to be randomised again."
   ]
  },
  {
   "cell_type": "code",
   "execution_count": 3,
   "metadata": {
    "collapsed": true
   },
   "outputs": [],
   "source": [
    "#trainRating <- read.table(\"C:/temp/trainingRatings.txt\")\n",
    "#powerUsers <- ((subset(as.data.frame(table(trainRating$userId)), Freq > 2500))$Var1)\n",
    "\n",
    "#powerUserRatings <- subset(trainRating, userId %in% powerUsers)\n",
    "#write.table(powerUserRatings, \"C:/temp/poweruserRatings.txt\")\n",
    "\n",
    "powerUserRatings <- read.table(\"C:/temp/poweruserRatings.txt\", stringsAsFactors = FALSE)"
   ]
  },
  {
   "cell_type": "markdown",
   "metadata": {},
   "source": [
    "From here on I'm only looking at the users who have rated more than 2500 films, which I call 'power users'. Of course the analysis done here could be applied to users with fewer reviews, but for the interest of speeding up the processes this is sufficient."
   ]
  },
  {
   "cell_type": "code",
   "execution_count": 4,
   "metadata": {},
   "outputs": [
    {
     "data": {
      "text/html": [
       "48"
      ],
      "text/latex": [
       "48"
      ],
      "text/markdown": [
       "48"
      ],
      "text/plain": [
       "[1] 48"
      ]
     },
     "metadata": {},
     "output_type": "display_data"
    }
   ],
   "source": [
    "powerUsers <- unique(powerUserRatings$userId)\n",
    "length(powerUsers)"
   ]
  },
  {
   "cell_type": "code",
   "execution_count": 5,
   "metadata": {
    "collapsed": true
   },
   "outputs": [],
   "source": [
    "\n",
    "\n",
    "correlatedPairs <- ddply(powerUserRatings, .(userId), function(x)\n",
    "{\n",
    "\tMoviesForX = subset(movies, movieId %in% x$movieId)\n",
    "\treturn(ddply(powerUserRatings, .(userId), function(y)\n",
    "\t{\n",
    "\t\t#print(paste(x$userId[1], y$userId[1]))\n",
    "\t\tif (y$userId[1] == x$userId[1])return(NULL)\n",
    "\t\tmoviesInCommon = subset(MoviesForX, movieId %in% y$movieId)\n",
    "\t\tif (nrow(moviesInCommon) < 5)return (NULL)\n",
    "\t\t\n",
    "\t\txInCommon = rename(subset(x, movieId %in% y$movieId), c(\"rating\"=\"xRating\",\"userId\"=\"xUserId\"))\n",
    "\t\tyInCommon = rename(subset(y, movieId %in% x$movieId), c(\"rating\"=\"yRating\",\"userId\"=\"yUserId\"))\n",
    "\t\t\n",
    "\t\tBothInCommon = merge(xInCommon[c(\"xUserId\",\"movieId\",\"xRating\")], yInCommon[c(\"yUserId\",\"movieId\",\"yRating\")])\n",
    "\t\tlinearFit=summary(lm(BothInCommon, formula=xRating~yRating))\n",
    "\t\treturn(data.frame(xUser = x$userId[1], yUser = y$userId[1],constant = linearFit$coefficients[1,1], linearCoeff =linearFit$coefficients[2,1] ))\n",
    "\t}\n",
    "\t))\n",
    "})"
   ]
  },
  {
   "cell_type": "code",
   "execution_count": 6,
   "metadata": {},
   "outputs": [
    {
     "data": {
      "text/html": [
       "<table>\n",
       "<thead><tr><th scope=col>userId</th><th scope=col>xUser</th><th scope=col>yUser</th><th scope=col>constant</th><th scope=col>linearCoeff</th></tr></thead>\n",
       "<tbody>\n",
       "\t<tr><td> 8963    </td><td>8405     </td><td> 8963    </td><td>2.3891690</td><td>0.3983210</td></tr>\n",
       "\t<tr><td> 9544    </td><td>8405     </td><td> 9544    </td><td>0.9443728</td><td>0.8364734</td></tr>\n",
       "\t<tr><td>12131    </td><td>8405     </td><td>12131    </td><td>1.5113024</td><td>0.6066688</td></tr>\n",
       "\t<tr><td>14705    </td><td>8405     </td><td>14705    </td><td>1.6320663</td><td>0.6520435</td></tr>\n",
       "\t<tr><td>15617    </td><td>8405     </td><td>15617    </td><td>1.1502660</td><td>0.7353013</td></tr>\n",
       "\t<tr><td>18138    </td><td>8405     </td><td>18138    </td><td>1.0348831</td><td>0.7787809</td></tr>\n",
       "</tbody>\n",
       "</table>\n"
      ],
      "text/latex": [
       "\\begin{tabular}{r|lllll}\n",
       " userId & xUser & yUser & constant & linearCoeff\\\\\n",
       "\\hline\n",
       "\t  8963     & 8405      &  8963     & 2.3891690 & 0.3983210\\\\\n",
       "\t  9544     & 8405      &  9544     & 0.9443728 & 0.8364734\\\\\n",
       "\t 12131     & 8405      & 12131     & 1.5113024 & 0.6066688\\\\\n",
       "\t 14705     & 8405      & 14705     & 1.6320663 & 0.6520435\\\\\n",
       "\t 15617     & 8405      & 15617     & 1.1502660 & 0.7353013\\\\\n",
       "\t 18138     & 8405      & 18138     & 1.0348831 & 0.7787809\\\\\n",
       "\\end{tabular}\n"
      ],
      "text/markdown": [
       "\n",
       "userId | xUser | yUser | constant | linearCoeff | \n",
       "|---|---|---|---|---|---|\n",
       "|  8963     | 8405      |  8963     | 2.3891690 | 0.3983210 | \n",
       "|  9544     | 8405      |  9544     | 0.9443728 | 0.8364734 | \n",
       "| 12131     | 8405      | 12131     | 1.5113024 | 0.6066688 | \n",
       "| 14705     | 8405      | 14705     | 1.6320663 | 0.6520435 | \n",
       "| 15617     | 8405      | 15617     | 1.1502660 | 0.7353013 | \n",
       "| 18138     | 8405      | 18138     | 1.0348831 | 0.7787809 | \n",
       "\n",
       "\n"
      ],
      "text/plain": [
       "  userId xUser yUser constant  linearCoeff\n",
       "1  8963  8405   8963 2.3891690 0.3983210  \n",
       "2  9544  8405   9544 0.9443728 0.8364734  \n",
       "3 12131  8405  12131 1.5113024 0.6066688  \n",
       "4 14705  8405  14705 1.6320663 0.6520435  \n",
       "5 15617  8405  15617 1.1502660 0.7353013  \n",
       "6 18138  8405  18138 1.0348831 0.7787809  "
      ]
     },
     "metadata": {},
     "output_type": "display_data"
    }
   ],
   "source": [
    "head(correlatedPairs)"
   ]
  },
  {
   "cell_type": "markdown",
   "metadata": {},
   "source": [
    "Here the linearCoeff and constant are the coefficients in y=ax+b, respectively,for the linear fit.\n",
    "\n",
    "I used a linear predictor here because it seems reasonable to assume that there is a strictly linear correlation between two users’ ratings. In theory at least, a 5 star rating system should be linear. In practice, of course, the difference between a 4.5 and 5 is different to the difference between a 1.5 and a 2, so while this doesn’t hold entirely, it seems to me a fair approximation to treat them as linear. There is also evidence of a bias against giving half star ratings in this data set. For example, of ratings given at 3, 3.5 or 4, only 18% were given as 3.5. Again this is another failing of the rating system, but something I’m going to overlook for now."
   ]
  },
  {
   "cell_type": "code",
   "execution_count": 7,
   "metadata": {
    "collapsed": true
   },
   "outputs": [],
   "source": [
    "#testRating <- read.table(\"C:/temp/testRatings.txt\", nrow= 900000)\n",
    "\n",
    "#powerUserTestRatings <- subset(testRating, userId %in% powerUsers)\n",
    "#write.table(powerUserTestRatings, \"C:/temp/poweruserTestRatings.txt\")\n",
    "\n",
    "powerUserTestRatings <- read.table(\"C:/temp/poweruserTestRatings.txt\", stringsAsFactors=FALSE)"
   ]
  },
  {
   "cell_type": "code",
   "execution_count": 8,
   "metadata": {
    "collapsed": true
   },
   "outputs": [],
   "source": [
    "MovieList <- split(powerUserRatings,f=powerUserRatings$movieId)\n",
    "names(MovieList) <- unique(powerUserRatings[order(powerUserRatings$movieId),]$movieId)"
   ]
  },
  {
   "cell_type": "markdown",
   "metadata": {},
   "source": [
    "Puts the powerUserRatings into a list so that I can more quickly call the subsets with a specific user."
   ]
  },
  {
   "cell_type": "code",
   "execution_count": 9,
   "metadata": {
    "collapsed": true
   },
   "outputs": [],
   "source": [
    "weighted.var <- function(x, w, na.rm = FALSE) {\n",
    "    if (na.rm) {\n",
    "        w <- w[i <- !is.na(x)]\n",
    "        x <- x[i]\n",
    "    }\n",
    "    sum.w <- sum(w)\n",
    "    sum.w2 <- sum(w^2)\n",
    "    mean.w <- sum(x * w) / sum(w)\n",
    "    (sum.w / (sum.w^2 - sum.w2)) * sum(w * (x - mean.w)^2, na.rm =\n",
    "na.rm)\n",
    "}"
   ]
  },
  {
   "cell_type": "markdown",
   "metadata": {},
   "source": [
    "Code to calculated a weighted variance."
   ]
  },
  {
   "cell_type": "code",
   "execution_count": 10,
   "metadata": {
    "collapsed": true
   },
   "outputs": [],
   "source": [
    "linearFitsList <- split(correlatedPairs, f=correlatedPairs$xUser)\n",
    "names(linearFitsList) <- unique(correlatedPairs[order(correlatedPairs$xUser),]$xUser)"
   ]
  },
  {
   "cell_type": "code",
   "execution_count": 11,
   "metadata": {
    "collapsed": true
   },
   "outputs": [],
   "source": [
    "\n",
    "\n",
    "RatingPrediction <- function(TargetId, FilmId)\n",
    "{\n",
    "linearFits = linearFitsList[[as.character(TargetId)]]#subset(correlatedPairs, xUser==TargetId)\n",
    "numberOfReviews = 0\n",
    "scores=NULL\n",
    "weights = NULL\n",
    "trainingDataOnFilm = MovieList[[as.character(FilmId)]]\n",
    "if (!is.null(trainingDataOnFilm ))\n",
    "    {\n",
    "    trainingDataList <- split(trainingDataOnFilm,f=trainingDataOnFilm$userId)\n",
    "    names(trainingDataList) <- unique(trainingDataOnFilm[order(trainingDataOnFilm$userId),]$userId)    \n",
    "    for (i in 1:nrow(linearFits))\n",
    "    {\n",
    "        haveTheySeenTheFilm = trainingDataList[[as.character(linearFits$yUser[i])]]\n",
    "        \n",
    "        if (!is.null(haveTheySeenTheFilm))\n",
    "        {\n",
    "            numberOfReviews = numberOfReviews + 1\n",
    "            predictedScore = linearFits$constant[i] + linearFits$linearCoeff[i]*haveTheySeenTheFilm$rating\n",
    "            weight = abs(linearFits$linearCoeff[i])\n",
    "            weights[numberOfReviews] = weight\n",
    "            scores[numberOfReviews] = predictedScore\n",
    "        }\n",
    "    }\n",
    "}\n",
    "    \n",
    "weightedScore = sum(scores*weights^2)/sum(weights^2)\n",
    "weightedVariance = weighted.var(scores,weights)\n",
    "return(data.frame(weightedScore=weightedScore, weightedVariance=weightedVariance, \n",
    "\t\t\tweightedSD = sqrt(weightedVariance), numberOfReviews = numberOfReviews))\n",
    "}\n"
   ]
  },
  {
   "cell_type": "markdown",
   "metadata": {},
   "source": [
    "Given a user and a film, RatingPrediction calculates the predicted rating as well as providing a variance."
   ]
  },
  {
   "cell_type": "code",
   "execution_count": 12,
   "metadata": {},
   "outputs": [
    {
     "data": {
      "text/html": [
       "<table>\n",
       "<thead><tr><th scope=col>weightedScore</th><th scope=col>weightedVariance</th><th scope=col>weightedSD</th><th scope=col>numberOfReviews</th></tr></thead>\n",
       "<tbody>\n",
       "\t<tr><td>3.045812  </td><td>0.03494911</td><td>0.1869468 </td><td>28        </td></tr>\n",
       "</tbody>\n",
       "</table>\n"
      ],
      "text/latex": [
       "\\begin{tabular}{r|llll}\n",
       " weightedScore & weightedVariance & weightedSD & numberOfReviews\\\\\n",
       "\\hline\n",
       "\t 3.045812   & 0.03494911 & 0.1869468  & 28        \\\\\n",
       "\\end{tabular}\n"
      ],
      "text/markdown": [
       "\n",
       "weightedScore | weightedVariance | weightedSD | numberOfReviews | \n",
       "|---|\n",
       "| 3.045812   | 0.03494911 | 0.1869468  | 28         | \n",
       "\n",
       "\n"
      ],
      "text/plain": [
       "  weightedScore weightedVariance weightedSD numberOfReviews\n",
       "1 3.045812      0.03494911       0.1869468  28             "
      ]
     },
     "metadata": {},
     "output_type": "display_data"
    }
   ],
   "source": [
    "RatingPrediction(15617,2717)"
   ]
  },
  {
   "cell_type": "code",
   "execution_count": 13,
   "metadata": {
    "collapsed": true
   },
   "outputs": [],
   "source": [
    "lines = nrow(powerUserTestRatings)\n",
    "ListOfPredictions = data.frame(weightedScore=rep(0,lines),weightedVariance=rep(0,lines),weightedSD=rep(0,lines),\n",
    "\t\t\t\t\tnumberOfReviews=rep(0,lines),actualRating=rep(0,lines),\n",
    "\t\t\t\t\tuserId = rep(0,lines), movieId = rep(0,lines))"
   ]
  },
  {
   "cell_type": "code",
   "execution_count": 14,
   "metadata": {},
   "outputs": [
    {
     "data": {
      "text/html": [
       "40155"
      ],
      "text/latex": [
       "40155"
      ],
      "text/markdown": [
       "40155"
      ],
      "text/plain": [
       "[1] 40155"
      ]
     },
     "metadata": {},
     "output_type": "display_data"
    }
   ],
   "source": [
    "lines"
   ]
  },
  {
   "cell_type": "markdown",
   "metadata": {},
   "source": [
    "The next loop is quite slow if we go from 1 to lines (there are about 40,000 power user views in the test set). Here I'm only taking a random 2000 in the interest of speed."
   ]
  },
  {
   "cell_type": "code",
   "execution_count": 15,
   "metadata": {
    "collapsed": true
   },
   "outputs": [],
   "source": [
    "\n",
    "row=1\n",
    "for (i in sample(1:lines, 2000))#lines)\n",
    "{\n",
    "ratingPrediction = RatingPrediction(powerUserTestRatings$userId[i],powerUserTestRatings$movieId[i])\n",
    "ratingPrediction$actualRating = powerUserTestRatings$rating[i]\n",
    "ratingPrediction$userId = powerUserTestRatings$userId[i]\n",
    "ratingPrediction$movieId = powerUserTestRatings$movieId[i]\n",
    "ListOfPredictions[row,] = ratingPrediction\n",
    "row=row+1\n",
    "#print(i)\n",
    "}\n",
    "ListOfPredictions=ListOfPredictions[1:2000,]\n"
   ]
  },
  {
   "cell_type": "code",
   "execution_count": 16,
   "metadata": {},
   "outputs": [
    {
     "data": {
      "text/html": [
       "<table>\n",
       "<thead><tr><th></th><th scope=col>weightedScore</th><th scope=col>weightedVariance</th><th scope=col>weightedSD</th><th scope=col>numberOfReviews</th><th scope=col>actualRating</th><th scope=col>userId</th><th scope=col>movieId</th></tr></thead>\n",
       "<tbody>\n",
       "\t<tr><th scope=row>1998</th><td>3.387929  </td><td>0.02498189</td><td>0.1580566 </td><td> 3        </td><td>3.0       </td><td> 34576    </td><td>26463     </td></tr>\n",
       "\t<tr><th scope=row>1999</th><td>1.927830  </td><td>0.16271009</td><td>0.4033734 </td><td>13        </td><td>0.5       </td><td> 74142    </td><td>96588     </td></tr>\n",
       "\t<tr><th scope=row>2000</th><td>2.956887  </td><td>0.12694377</td><td>0.3562917 </td><td> 7        </td><td>5.0       </td><td>114406    </td><td>26550     </td></tr>\n",
       "\t<tr><th scope=row>NA</th><td>      NA  </td><td>        NA</td><td>       NA </td><td>NA        </td><td> NA       </td><td>    NA    </td><td>   NA     </td></tr>\n",
       "\t<tr><th scope=row>NA.1</th><td>      NA  </td><td>        NA</td><td>       NA </td><td>NA        </td><td> NA       </td><td>    NA    </td><td>   NA     </td></tr>\n",
       "\t<tr><th scope=row>NA.2</th><td>      NA  </td><td>        NA</td><td>       NA </td><td>NA        </td><td> NA       </td><td>    NA    </td><td>   NA     </td></tr>\n",
       "\t<tr><th scope=row>NA.3</th><td>      NA  </td><td>        NA</td><td>       NA </td><td>NA        </td><td> NA       </td><td>    NA    </td><td>   NA     </td></tr>\n",
       "\t<tr><th scope=row>NA.4</th><td>      NA  </td><td>        NA</td><td>       NA </td><td>NA        </td><td> NA       </td><td>    NA    </td><td>   NA     </td></tr>\n",
       "</tbody>\n",
       "</table>\n"
      ],
      "text/latex": [
       "\\begin{tabular}{r|lllllll}\n",
       "  & weightedScore & weightedVariance & weightedSD & numberOfReviews & actualRating & userId & movieId\\\\\n",
       "\\hline\n",
       "\t1998 & 3.387929   & 0.02498189 & 0.1580566  &  3         & 3.0        &  34576     & 26463     \\\\\n",
       "\t1999 & 1.927830   & 0.16271009 & 0.4033734  & 13         & 0.5        &  74142     & 96588     \\\\\n",
       "\t2000 & 2.956887   & 0.12694377 & 0.3562917  &  7         & 5.0        & 114406     & 26550     \\\\\n",
       "\tNA &       NA   &         NA &        NA  & NA         &  NA        &     NA     &    NA     \\\\\n",
       "\tNA.1 &       NA   &         NA &        NA  & NA         &  NA        &     NA     &    NA     \\\\\n",
       "\tNA.2 &       NA   &         NA &        NA  & NA         &  NA        &     NA     &    NA     \\\\\n",
       "\tNA.3 &       NA   &         NA &        NA  & NA         &  NA        &     NA     &    NA     \\\\\n",
       "\tNA.4 &       NA   &         NA &        NA  & NA         &  NA        &     NA     &    NA     \\\\\n",
       "\\end{tabular}\n"
      ],
      "text/markdown": [
       "\n",
       "| <!--/--> | weightedScore | weightedVariance | weightedSD | numberOfReviews | actualRating | userId | movieId | \n",
       "|---|---|---|---|---|---|---|---|\n",
       "| 1998 | 3.387929   | 0.02498189 | 0.1580566  |  3         | 3.0        |  34576     | 26463      | \n",
       "| 1999 | 1.927830   | 0.16271009 | 0.4033734  | 13         | 0.5        |  74142     | 96588      | \n",
       "| 2000 | 2.956887   | 0.12694377 | 0.3562917  |  7         | 5.0        | 114406     | 26550      | \n",
       "| NA |       NA   |         NA |        NA  | NA         |  NA        |     NA     |    NA      | \n",
       "| NA.1 |       NA   |         NA |        NA  | NA         |  NA        |     NA     |    NA      | \n",
       "| NA.2 |       NA   |         NA |        NA  | NA         |  NA        |     NA     |    NA      | \n",
       "| NA.3 |       NA   |         NA |        NA  | NA         |  NA        |     NA     |    NA      | \n",
       "| NA.4 |       NA   |         NA |        NA  | NA         |  NA        |     NA     |    NA      | \n",
       "\n",
       "\n"
      ],
      "text/plain": [
       "     weightedScore weightedVariance weightedSD numberOfReviews actualRating\n",
       "1998 3.387929      0.02498189       0.1580566   3              3.0         \n",
       "1999 1.927830      0.16271009       0.4033734  13              0.5         \n",
       "2000 2.956887      0.12694377       0.3562917   7              5.0         \n",
       "NA         NA              NA              NA  NA               NA         \n",
       "NA.1       NA              NA              NA  NA               NA         \n",
       "NA.2       NA              NA              NA  NA               NA         \n",
       "NA.3       NA              NA              NA  NA               NA         \n",
       "NA.4       NA              NA              NA  NA               NA         \n",
       "     userId movieId\n",
       "1998  34576 26463  \n",
       "1999  74142 96588  \n",
       "2000 114406 26550  \n",
       "NA       NA    NA  \n",
       "NA.1     NA    NA  \n",
       "NA.2     NA    NA  \n",
       "NA.3     NA    NA  \n",
       "NA.4     NA    NA  "
      ]
     },
     "metadata": {},
     "output_type": "display_data"
    }
   ],
   "source": [
    "ListOfPredictions[1998:2005,]"
   ]
  },
  {
   "cell_type": "code",
   "execution_count": 17,
   "metadata": {},
   "outputs": [],
   "source": [
    "ListOfPredictions <- ListOfPredictions[1:2000,]\n",
    "\n",
    "ListOfPredictions$differenceFromMean = abs(ListOfPredictions$actualRating - mean(powerUserTestRatings$rating))\n",
    "ListOfPredictions$differenceFromPrediction = abs(ListOfPredictions$actualRating - ListOfPredictions$weightedScore)\n",
    "\n",
    "ListOfPredictionsWithoutNans <- subset(ListOfPredictions, !is.nan(weightedSD))"
   ]
  },
  {
   "cell_type": "markdown",
   "metadata": {},
   "source": [
    "As a null hypothesis we presume that the mean rating is a better prediction than the new peer prediction. The mean rating in the training set is roughly 3.52, so in my view the best way to test if the peer prediction is better is to compare the number of times the peer predictor is closer to the real rating than the average.\n"
   ]
  },
  {
   "cell_type": "code",
   "execution_count": 18,
   "metadata": {},
   "outputs": [
    {
     "data": {
      "text/html": [
       "1451.9893537542"
      ],
      "text/latex": [
       "1451.9893537542"
      ],
      "text/markdown": [
       "1451.9893537542"
      ],
      "text/plain": [
       "[1] 1451.989"
      ]
     },
     "metadata": {},
     "output_type": "display_data"
    },
    {
     "data": {
      "text/html": [
       "1147.39132378236"
      ],
      "text/latex": [
       "1147.39132378236"
      ],
      "text/markdown": [
       "1147.39132378236"
      ],
      "text/plain": [
       "[1] 1147.391"
      ]
     },
     "metadata": {},
     "output_type": "display_data"
    },
    {
     "data": {
      "text/html": [
       "1201"
      ],
      "text/latex": [
       "1201"
      ],
      "text/markdown": [
       "1201"
      ],
      "text/plain": [
       "[1] 1201"
      ]
     },
     "metadata": {},
     "output_type": "display_data"
    },
    {
     "data": {
      "text/html": [
       "0.628795811518325"
      ],
      "text/latex": [
       "0.628795811518325"
      ],
      "text/markdown": [
       "0.628795811518325"
      ],
      "text/plain": [
       "[1] 0.6287958"
      ]
     },
     "metadata": {},
     "output_type": "display_data"
    },
    {
     "data": {
      "text/html": [
       "0.0110546391421431"
      ],
      "text/latex": [
       "0.0110546391421431"
      ],
      "text/markdown": [
       "0.0110546391421431"
      ],
      "text/plain": [
       "[1] 0.01105464"
      ]
     },
     "metadata": {},
     "output_type": "display_data"
    }
   ],
   "source": [
    "sum(ListOfPredictionsWithoutNans$differenceFromMean)\n",
    "sum(ListOfPredictionsWithoutNans$differenceFromPrediction)\n",
    "failures=nrow(subset(ListOfPredictionsWithoutNans,differenceFromMean < differenceFromPrediction))\n",
    "successes=nrow(subset(ListOfPredictionsWithoutNans,differenceFromMean > differenceFromPrediction))\n",
    "\n",
    "successes\n",
    "\n",
    "successes/(successes+failures)\n",
    "\n",
    "binomialError = sqrt((successes/(successes+failures))*(1 - successes/(successes+failures))/ (successes+failures) )\n",
    "\n",
    "binomialError\n"
   ]
  },
  {
   "cell_type": "markdown",
   "metadata": {},
   "source": [
    "SO in 62.9% of cases the new Peer predictor was an improvement upon the Average rating as a gauge for the rating a user would give a film. The graph below also shows the average rating for groups of reviews binned according to the Peer Predictions. It's clear it isn't a perfect fit but it certainly looks encouraging."
   ]
  },
  {
   "cell_type": "code",
   "execution_count": 19,
   "metadata": {
    "collapsed": true
   },
   "outputs": [],
   "source": [
    "#write.table(ListOfPredictionsWithoutNans,\"C:/temp/ListOfPredictionsForComparision.txt\")"
   ]
  },
  {
   "cell_type": "markdown",
   "metadata": {},
   "source": [
    "save the List I used so that after completing the Tag Association Model I can compare the two."
   ]
  },
  {
   "cell_type": "code",
   "execution_count": 54,
   "metadata": {},
   "outputs": [],
   "source": [
    "means = ddply(ListOfPredictionsWithoutNans, .(round(weightedScore*10)/10), function(x)data.frame(\n",
    "    count=nrow(x),meanPrediction=mean(x$weightedScore),meanActualRating=mean(x$actualRating)))"
   ]
  },
  {
   "cell_type": "code",
   "execution_count": 56,
   "metadata": {},
   "outputs": [
    {
     "data": {},
     "metadata": {},
     "output_type": "display_data"
    },
    {
     "data": {
      "image/png": "[encoded data removed]",
      "text/plain": [
       "plot without title"
      ]
     },
     "metadata": {},
     "output_type": "display_data"
    }
   ],
   "source": [
    "ggplot(ListOfPredictionsWithoutNans , aes(y=actualRating, x=weightedScore))+\n",
    "geom_jitter(height = 0.1, width = 0, aes(color=as.factor(userId)))+stat_function(fun=function(x)x)+\n",
    "geom_point(data=means, aes(x=meanPrediction,y=meanActualRating,size=2))+\n",
    "theme(legend.position = \"none\")+xlab(\"Peer Prediction\")+ylab(\"Actual Rating\")"
   ]
  },
  {
   "cell_type": "code",
   "execution_count": 78,
   "metadata": {},
   "outputs": [
    {
     "data": {
      "text/html": [
       "<table>\n",
       "<thead><tr><th scope=col>movieId</th><th scope=col>userId</th><th scope=col>title</th><th scope=col>weightedScore</th><th scope=col>actualRating</th></tr></thead>\n",
       "<tbody>\n",
       "\t<tr><td>  551                                  </td><td> 74142                                 </td><td>Nightmare Before Christmas, The (1993) </td><td>2.064946                               </td><td>5                                      </td></tr>\n",
       "\t<tr><td>  912                                  </td><td> 46470                                 </td><td>Casablanca (1942)                      </td><td>2.851538                               </td><td>5                                      </td></tr>\n",
       "\t<tr><td> 2105                                  </td><td> 24688                                 </td><td>Tron (1982)                            </td><td>2.987616                               </td><td>5                                      </td></tr>\n",
       "\t<tr><td> 3081                                  </td><td> 46470                                 </td><td>Sleepy Hollow (1999)                   </td><td>2.745217                               </td><td>5                                      </td></tr>\n",
       "\t<tr><td> 3677                                  </td><td>114406                                 </td><td>Baraka (1992)                          </td><td>2.834558                               </td><td>5                                      </td></tr>\n",
       "\t<tr><td> 4310                                  </td><td> 83090                                 </td><td>Pearl Harbor (2001)                    </td><td>2.414917                               </td><td>5                                      </td></tr>\n",
       "\t<tr><td> 5502                                  </td><td> 46470                                 </td><td>Signs (2002)                           </td><td>2.813288                               </td><td>5                                      </td></tr>\n",
       "\t<tr><td>26550                                  </td><td>114406                                 </td><td>Mishima: A Life in Four Chapters (1985)</td><td>2.956887                               </td><td>5                                      </td></tr>\n",
       "\t<tr><td>60950                                  </td><td>114406                                 </td><td>Vicky Cristina Barcelona (2008)        </td><td>2.894344                               </td><td>5                                      </td></tr>\n",
       "\t<tr><td>81564                                  </td><td> 46470                                 </td><td>Megamind (2010)                        </td><td>2.740790                               </td><td>5                                      </td></tr>\n",
       "</tbody>\n",
       "</table>\n"
      ],
      "text/latex": [
       "\\begin{tabular}{r|lllll}\n",
       " movieId & userId & title & weightedScore & actualRating\\\\\n",
       "\\hline\n",
       "\t   551                                   &  74142                                  & Nightmare Before Christmas, The (1993)  & 2.064946                                & 5                                      \\\\\n",
       "\t   912                                   &  46470                                  & Casablanca (1942)                       & 2.851538                                & 5                                      \\\\\n",
       "\t  2105                                   &  24688                                  & Tron (1982)                             & 2.987616                                & 5                                      \\\\\n",
       "\t  3081                                   &  46470                                  & Sleepy Hollow (1999)                    & 2.745217                                & 5                                      \\\\\n",
       "\t  3677                                   & 114406                                  & Baraka (1992)                           & 2.834558                                & 5                                      \\\\\n",
       "\t  4310                                   &  83090                                  & Pearl Harbor (2001)                     & 2.414917                                & 5                                      \\\\\n",
       "\t  5502                                   &  46470                                  & Signs (2002)                            & 2.813288                                & 5                                      \\\\\n",
       "\t 26550                                   & 114406                                  & Mishima: A Life in Four Chapters (1985) & 2.956887                                & 5                                      \\\\\n",
       "\t 60950                                   & 114406                                  & Vicky Cristina Barcelona (2008)         & 2.894344                                & 5                                      \\\\\n",
       "\t 81564                                   &  46470                                  & Megamind (2010)                         & 2.740790                                & 5                                      \\\\\n",
       "\\end{tabular}\n"
      ],
      "text/markdown": [
       "\n",
       "movieId | userId | title | weightedScore | actualRating | \n",
       "|---|---|---|---|---|---|---|---|---|---|\n",
       "|   551                                   |  74142                                  | Nightmare Before Christmas, The (1993)  | 2.064946                                | 5                                       | \n",
       "|   912                                   |  46470                                  | Casablanca (1942)                       | 2.851538                                | 5                                       | \n",
       "|  2105                                   |  24688                                  | Tron (1982)                             | 2.987616                                | 5                                       | \n",
       "|  3081                                   |  46470                                  | Sleepy Hollow (1999)                    | 2.745217                                | 5                                       | \n",
       "|  3677                                   | 114406                                  | Baraka (1992)                           | 2.834558                                | 5                                       | \n",
       "|  4310                                   |  83090                                  | Pearl Harbor (2001)                     | 2.414917                                | 5                                       | \n",
       "|  5502                                   |  46470                                  | Signs (2002)                            | 2.813288                                | 5                                       | \n",
       "| 26550                                   | 114406                                  | Mishima: A Life in Four Chapters (1985) | 2.956887                                | 5                                       | \n",
       "| 60950                                   | 114406                                  | Vicky Cristina Barcelona (2008)         | 2.894344                                | 5                                       | \n",
       "| 81564                                   |  46470                                  | Megamind (2010)                         | 2.740790                                | 5                                       | \n",
       "\n",
       "\n"
      ],
      "text/plain": [
       "   movieId userId title                                   weightedScore\n",
       "1    551    74142 Nightmare Before Christmas, The (1993)  2.064946     \n",
       "2    912    46470 Casablanca (1942)                       2.851538     \n",
       "3   2105    24688 Tron (1982)                             2.987616     \n",
       "4   3081    46470 Sleepy Hollow (1999)                    2.745217     \n",
       "5   3677   114406 Baraka (1992)                           2.834558     \n",
       "6   4310    83090 Pearl Harbor (2001)                     2.414917     \n",
       "7   5502    46470 Signs (2002)                            2.813288     \n",
       "8  26550   114406 Mishima: A Life in Four Chapters (1985) 2.956887     \n",
       "9  60950   114406 Vicky Cristina Barcelona (2008)         2.894344     \n",
       "10 81564    46470 Megamind (2010)                         2.740790     \n",
       "   actualRating\n",
       "1  5           \n",
       "2  5           \n",
       "3  5           \n",
       "4  5           \n",
       "5  5           \n",
       "6  5           \n",
       "7  5           \n",
       "8  5           \n",
       "9  5           \n",
       "10 5           "
      ]
     },
     "metadata": {},
     "output_type": "display_data"
    }
   ],
   "source": [
    "merge(subset(movies, movieId %in% subset(ListOfPredictionsWithoutNans,     (weightedScore < 3 & actualRating == 5)  )$movieId),\n",
    "      subset(ListOfPredictionsWithoutNans,     (weightedScore < 3 & actualRating == 5) \n",
    "            ))[c(\"movieId\",\"userId\",\"title\",\"weightedScore\",\"actualRating\")]"
   ]
  },
  {
   "cell_type": "markdown",
   "metadata": {},
   "source": [
    "So as you can see above, the model isn't perfect. Like suggesting Casablanca would be rated below 3 stars."
   ]
  },
  {
   "cell_type": "markdown",
   "metadata": {},
   "source": [
    "I also considered modifying the model so that it only considers using the ratings of other users where the linear coefficient was large, i.e. only use recommendations from people who like the same thing rather than an influence from all people. In this way we wouldn’t get so much of the effect of ‘everyone likes this film so this user probably will’, but instead we get ‘people who liked what this person liked, liked this,so this person will’. \n",
    "\n",
    "The problem with this is that among the 48 power users, there were 20 who had no coefficient above 0.6 with any other power user and so for them this method would not work. The cost for what may be no improvement is simply not worth it. The next approach to improving this model would be to  use only highly correlated peers, but i would need more processing power than i have here.\n"
   ]
  }
 ],
 "metadata": {
  "kernelspec": {
   "display_name": "R",
   "language": "R",
   "name": "ir"
  },
  "language_info": {
   "codemirror_mode": "r",
   "file_extension": ".r",
   "mimetype": "text/x-r-source",
   "name": "R",
   "pygments_lexer": "r",
   "version": "3.3.2"
  }
 },
 "nbformat": 4,
 "nbformat_minor": 2
}
