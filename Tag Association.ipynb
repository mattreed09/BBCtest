{
 "cells": [
  {
   "cell_type": "code",
   "execution_count": 1,
   "metadata": {
    "collapsed": true
   },
   "outputs": [],
   "source": [
    "library(plyr)\n",
    "library(ggplot2)"
   ]
  },
  {
   "cell_type": "code",
   "execution_count": 2,
   "metadata": {
    "collapsed": true
   },
   "outputs": [],
   "source": [
    "#genomeScores <- read.csv(\"C:/Users/matt/Downloads/ml-20m/ml-20m/genome-scores.csv\",stringsAsFactors = FALSE)\n",
    "genomeTags <- read.csv(\"C:/Users/matt/Downloads/ml-20m/ml-20m/genome-tags.csv\",stringsAsFactors = FALSE)\n",
    "\n",
    "#ratings <- read.csv(\"C:/Users/matt/Downloads/ml-20m/ml-20m/ratings.csv\",stringsAsFactors = FALSE)\n",
    "#randomRatings <- ratings[sample(nrow(ratings)),]\n",
    "#trainingRatings <- randomRatings [1:16000000,]\n",
    "#testRatings <- randomRatings [16000001:nrow(randomRatings),]\n",
    "#write.table(trainingRatings,\"C:/temp/trainingRatings.txt\")\n",
    "#write.table(testRatings,\"C:/temp/testRatings.txt\")"
   ]
  },
  {
   "cell_type": "code",
   "execution_count": 3,
   "metadata": {
    "collapsed": true
   },
   "outputs": [],
   "source": [
    "movies <- read.csv(\"C:/Users/matt/Downloads/ml-20m/ml-20m/movies.csv\",stringsAsFactors = FALSE)"
   ]
  },
  {
   "cell_type": "code",
   "execution_count": 4,
   "metadata": {
    "collapsed": true
   },
   "outputs": [],
   "source": [
    "trainRating <- read.table(\"C:/temp/trainingRatings.txt\",nrow=900000)\n",
    "#testRating <- read.table(\"C:/temp/testRatings.txt\")"
   ]
  },
  {
   "cell_type": "code",
   "execution_count": 5,
   "metadata": {
    "collapsed": true
   },
   "outputs": [],
   "source": [
    "\n",
    "#trimmedGenomeScores <- subset(genomeScores, tagId %in% sample(1128,100))\n",
    "#write.table(trimmedGenomeScores, \"C:/temp/trimmedGenomeScores.txt\")\n",
    "\n",
    "trimmedGenomeScores <- read.table(\"C:/temp/trimmedGenomeScores.txt\")\n"
   ]
  },
  {
   "cell_type": "code",
   "execution_count": 6,
   "metadata": {
    "collapsed": true
   },
   "outputs": [],
   "source": [
    "TagAffinity2 <- function(thisUserId)\n",
    "{\n",
    "\n",
    "\tusersReviews = subset(trainRating, userId == thisUserId)\n",
    "\tusersTagAffinity = data.frame(tagId = trimmedGenomeScores$tagId[1:100], constant = rep(0,100),\n",
    "\t\t\t\t\tlinearCoeff = rep(0,100), error=rep(0,100))\n",
    "\tmovietags2 = subset(trimmedGenomeScores, movieId %in% usersReviews$movieId)\n",
    "\tmovietags2=movietags2[order(movietags2$movieId, movietags2$tagId),]\n",
    "\tusableReviews = subset(usersReviews, movieId %in% unique(movietags2$movieId))\n",
    "\tusableReviews = usableReviews[order(usableReviews$movieId),]\n",
    "\n",
    "\tfor (j in 1:100)\n",
    "\t{\n",
    "\t\ttags= movietags2[(0:((nrow(movietags2)-1)/100))*100 + j,]\n",
    "\t\tfit = summary(lm(formula=usableReviews$rating~tags$relevance, weight=tags$relevance))\n",
    "\t\tusersTagAffinity$constant[j]=fit$coefficients[1,1]\n",
    "\t\tusersTagAffinity$linearCoeff[j]=fit$coefficients[2,1]\n",
    "\t\tusersTagAffinity$error[j] = fit$coefficients[2,4]\n",
    "\t}\n",
    "return(usersTagAffinity)\n",
    "}\n"
   ]
  },
  {
   "cell_type": "code",
   "execution_count": 7,
   "metadata": {},
   "outputs": [
    {
     "ename": "ERROR",
     "evalue": "Error in unique(powerUserTestRatings$userId): object 'powerUserTestRatings' not found\n",
     "output_type": "error",
     "traceback": [
      "Error in unique(powerUserTestRatings$userId): object 'powerUserTestRatings' not found\nTraceback:\n",
      "1. vector(mode = \"list\", length = length(unique(powerUserTestRatings$userId)))",
      "2. unique(powerUserTestRatings$userId)"
     ]
    }
   ],
   "source": [
    "\n",
    "powerUserAffinities <- vector(mode=\"list\", length=length(unique(powerUserTestRatings$userId)))\n",
    "names(powerUserAffinities) = unique(powerUserTestRatings$userId)\n"
   ]
  },
  {
   "cell_type": "code",
   "execution_count": null,
   "metadata": {
    "collapsed": true
   },
   "outputs": [],
   "source": [
    "for (i in unique(powerUserTestRatings$userId))\n",
    "{\n",
    "\tpowerUserAffinities[[as.character(i)]] = TagAffinity2(i)\n",
    "\t#print(count)\n",
    "\tcount = count + 1\n",
    "}"
   ]
  },
  {
   "cell_type": "code",
   "execution_count": null,
   "metadata": {
    "collapsed": true
   },
   "outputs": [],
   "source": [
    "\n",
    "UserFits <- function(thisUserId)\n",
    "{\n",
    "thisUsersTests = subset(testRating,userId == thisUserId)\n",
    "affinityStrengths = NULL\n",
    "count = 1\n",
    "basetags = subset(genomeScores, tagId %in% trimmedGenomeScores$tagId & movieId %in% thisUsersTests$movieId)\n",
    "affinities = powerUserAffinities[[as.character(thisUserId)]]\n",
    "for (filmId in thisUsersTests$movieId)\n",
    "{\n",
    "\ttags = subset(basetags , movieId == filmId)\n",
    "\tweights = (tags$relevance^3)/sum(tags$relevance^3)\n",
    "\taffinityStrengths[count] = sum(weights*(affinities$constant +affinities$linearCoeff*tags$relevance))\n",
    "\tcount = count + 1\n",
    "\t#print(count)\n",
    "}\n",
    "toReturn=data.frame(movieId = thisUsersTests$movieId, predictions = affinityStrengths)\n",
    "return(subset(toReturn,))\n",
    "}\n"
   ]
  },
  {
   "cell_type": "code",
   "execution_count": null,
   "metadata": {
    "collapsed": true
   },
   "outputs": [],
   "source": [
    "\n",
    "UserFilmPredictions <- vector(mode=\"list\", length=length(unique(powerUserTestRatings$userId)))\n",
    "names(powerUserAffinities) = unique(powerUserTestRatings$userId)\n",
    "for (user in unique(powerUserTestRatings$userId))\n",
    "{\n",
    "\tpredictions=UserFits(user)\n",
    "\tpredictions=predictions[order(predictions$movieId),]\n",
    "\tratings=subset(testRating, user==userId)\n",
    "\tratings=ratings[order(ratings$movieId),]\n",
    "\tpredictions$actualRating=ratings$rating\n",
    "\tpredictions$differenceFromMean=abs(predictions$actualRating - mean(testRating$rating))\n",
    "\tpredictions$differenceFromPrediction=abs(predictions$actualRating - predictions$prediction)\n",
    "\tpredictions$userId = user\n",
    "\tUserFilmPredictions[[as.character(user)]]=predictions\n",
    "\tprint(user)\n",
    "}\n",
    "bigList=do.call(\"rbind\",UserFilmPredictions)\n",
    "bigList2=subset(bigList, predictions != 0)\n"
   ]
  },
  {
   "cell_type": "code",
   "execution_count": null,
   "metadata": {
    "collapsed": true
   },
   "outputs": [],
   "source": []
  }
 ],
 "metadata": {
  "kernelspec": {
   "display_name": "R",
   "language": "R",
   "name": "ir"
  },
  "language_info": {
   "codemirror_mode": "r",
   "file_extension": ".r",
   "mimetype": "text/x-r-source",
   "name": "R",
   "pygments_lexer": "r",
   "version": "3.3.2"
  }
 },
 "nbformat": 4,
 "nbformat_minor": 2
}
