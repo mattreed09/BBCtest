{
 "cells": [
  {
   "cell_type": "markdown",
   "metadata": {},
   "source": [
    "This is part 1. Read this before reading Tag Association and Comparison with Peer Prediction.\n",
    "\n",
    "So my first approach for a predictor of rating was as follows: For each user, find any correlation between their ratings of films and other users’ ratings of films, with the idea that if two people show a strong correlation between their ratings of films,  then if person one has seen a film that person two has not, it is likely that if person one likes it then person two will also (and of course if person one did not like it then person two would also not like it)."
   ]
  },
  {
   "cell_type": "code",
   "execution_count": 1,
   "metadata": {
    "collapsed": true
   },
   "outputs": [],
   "source": [
    "library(plyr)\n",
    "library(ggplot2)\n",
    "\n",
    "movies <- read.csv(\"C:/Users/matt/Downloads/ml-20m/ml-20m/movies.csv\",stringsAsFactors = FALSE)\n",
    "#genomeScores <- read.csv(\"C:/Users/matt/Downloads/ml-20m/ml-20m/genome-scores.csv\",stringsAsFactors = FALSE)\n",
    "#genomeTags <- read.csv(\"C:/Users/matt/Downloads/ml-20m/ml-20m/genome-tags.csv\",stringsAsFactors = FALSE)\n",
    "#links <- read.csv(\"C:/Users/matt/Downloads/ml-20m/ml-20m/links.csv\",stringsAsFactors = FALSE)\n",
    "#tags <- read.csv(\"C:/Users/matt/Downloads/ml-20m/ml-20m/tags.csv\",stringsAsFactors = FALSE)"
   ]
  },
  {
   "cell_type": "code",
   "execution_count": 2,
   "metadata": {
    "collapsed": true
   },
   "outputs": [],
   "source": [
    "\n",
    "#ratings <- read.csv(\"C:/Users/matt/Downloads/ml-20m/ml-20m/ratings.csv\",stringsAsFactors = FALSE)\n",
    "#randomRatings <- ratings[sample(nrow(ratings)),]\n",
    "#trainingRatings <- randomRatings [1:16000000,]\n",
    "#testRatings <- randomRatings [16000001:nrow(randomRatings),]\n",
    "#write.table(trainingRatings,\"C:/temp/trainingRatings.txt\")\n",
    "#write.table(testRatings,\"C:/temp/testRatings.txt\")\n",
    "\n",
    "\n",
    "#testRating <- read.table(\"C:/temp/testRatings.txt\")\n"
   ]
  },
  {
   "cell_type": "markdown",
   "metadata": {},
   "source": [
    "Randomised the order of the ratings.csv file, then saved the first 16 million to a training file and the remaining roughly 4 million to a test file. Commented out here so that it doesn't need to be randomised again."
   ]
  },
  {
   "cell_type": "code",
   "execution_count": 3,
   "metadata": {
    "collapsed": true
   },
   "outputs": [],
   "source": [
    "#trainRating <- read.table(\"C:/temp/trainingRatings.txt\")\n",
    "#powerUsers <- ((subset(as.data.frame(table(trainRating$userId)), Freq > 2500))$Var1)\n",
    "\n",
    "#powerUserRatings <- subset(trainRating, userId %in% powerUsers)\n",
    "#write.table(powerUserRatings, \"C:/temp/poweruserRatings.txt\")\n",
    "\n",
    "powerUserRatings <- read.table(\"C:/temp/poweruserRatings.txt\", stringsAsFactors = FALSE)"
   ]
  },
  {
   "cell_type": "markdown",
   "metadata": {},
   "source": [
    "From here on I'm only looking at the users who have rated more than 2500 films, which I call 'power users'. Of course the analysis done here could be applied to users with fewer reviews, but for the interest of speeding up the processes this is sufficient.\n",
    "\n",
    "powerUserRatings is the training set, where powerUserTestRatings will be the test set."
   ]
  },
  {
   "cell_type": "code",
   "execution_count": 4,
   "metadata": {},
   "outputs": [
    {
     "data": {
      "text/html": [
       "48"
      ],
      "text/latex": [
       "48"
      ],
      "text/markdown": [
       "48"
      ],
      "text/plain": [
       "[1] 48"
      ]
     },
     "metadata": {},
     "output_type": "display_data"
    }
   ],
   "source": [
    "powerUsers <- unique(powerUserRatings$userId)\n",
    "length(powerUsers)"
   ]
  },
  {
   "cell_type": "markdown",
   "metadata": {},
   "source": [
    "rather than create a Peer model for the entire userbase, I instead focused on the users with the most views, in this case those who had reviewed over 2,500 films. "
   ]
  },
  {
   "cell_type": "code",
   "execution_count": 5,
   "metadata": {
    "collapsed": true
   },
   "outputs": [],
   "source": [
    "\n",
    "\n",
    "correlatedPairs <- ddply(powerUserRatings, .(userId), function(x)\n",
    "{\n",
    "\tMoviesForX = subset(movies, movieId %in% x$movieId)\n",
    "\treturn(ddply(powerUserRatings, .(userId), function(y)\n",
    "\t{\n",
    "\t\t#print(paste(x$userId[1], y$userId[1]))\n",
    "\t\tif (y$userId[1] == x$userId[1])return(NULL)\n",
    "\t\tmoviesInCommon = subset(MoviesForX, movieId %in% y$movieId)\n",
    "\t\tif (nrow(moviesInCommon) < 5)return (NULL)\n",
    "\t\t\n",
    "\t\txInCommon = rename(subset(x, movieId %in% y$movieId), c(\"rating\"=\"xRating\",\"userId\"=\"xUserId\"))\n",
    "\t\tyInCommon = rename(subset(y, movieId %in% x$movieId), c(\"rating\"=\"yRating\",\"userId\"=\"yUserId\"))\n",
    "\t\t\n",
    "\t\tBothInCommon = merge(xInCommon[c(\"xUserId\",\"movieId\",\"xRating\")], yInCommon[c(\"yUserId\",\"movieId\",\"yRating\")])\n",
    "\t\tlinearFit=summary(lm(BothInCommon, formula=xRating~yRating))\n",
    "\t\treturn(data.frame(xUser = x$userId[1], yUser = y$userId[1],constant = linearFit$coefficients[1,1], linearCoeff =linearFit$coefficients[2,1] ))\n",
    "\t}\n",
    "\t))\n",
    "})"
   ]
  },
  {
   "cell_type": "code",
   "execution_count": 6,
   "metadata": {},
   "outputs": [
    {
     "data": {
      "text/html": [
       "<table>\n",
       "<thead><tr><th scope=col>userId</th><th scope=col>xUser</th><th scope=col>yUser</th><th scope=col>constant</th><th scope=col>linearCoeff</th></tr></thead>\n",
       "<tbody>\n",
       "\t<tr><td> 8963    </td><td>8405     </td><td> 8963    </td><td>2.3891690</td><td>0.3983210</td></tr>\n",
       "\t<tr><td> 9544    </td><td>8405     </td><td> 9544    </td><td>0.9443728</td><td>0.8364734</td></tr>\n",
       "\t<tr><td>12131    </td><td>8405     </td><td>12131    </td><td>1.5113024</td><td>0.6066688</td></tr>\n",
       "\t<tr><td>14705    </td><td>8405     </td><td>14705    </td><td>1.6320663</td><td>0.6520435</td></tr>\n",
       "\t<tr><td>15617    </td><td>8405     </td><td>15617    </td><td>1.1502660</td><td>0.7353013</td></tr>\n",
       "\t<tr><td>18138    </td><td>8405     </td><td>18138    </td><td>1.0348831</td><td>0.7787809</td></tr>\n",
       "</tbody>\n",
       "</table>\n"
      ],
      "text/latex": [
       "\\begin{tabular}{r|lllll}\n",
       " userId & xUser & yUser & constant & linearCoeff\\\\\n",
       "\\hline\n",
       "\t  8963     & 8405      &  8963     & 2.3891690 & 0.3983210\\\\\n",
       "\t  9544     & 8405      &  9544     & 0.9443728 & 0.8364734\\\\\n",
       "\t 12131     & 8405      & 12131     & 1.5113024 & 0.6066688\\\\\n",
       "\t 14705     & 8405      & 14705     & 1.6320663 & 0.6520435\\\\\n",
       "\t 15617     & 8405      & 15617     & 1.1502660 & 0.7353013\\\\\n",
       "\t 18138     & 8405      & 18138     & 1.0348831 & 0.7787809\\\\\n",
       "\\end{tabular}\n"
      ],
      "text/markdown": [
       "\n",
       "userId | xUser | yUser | constant | linearCoeff | \n",
       "|---|---|---|---|---|---|\n",
       "|  8963     | 8405      |  8963     | 2.3891690 | 0.3983210 | \n",
       "|  9544     | 8405      |  9544     | 0.9443728 | 0.8364734 | \n",
       "| 12131     | 8405      | 12131     | 1.5113024 | 0.6066688 | \n",
       "| 14705     | 8405      | 14705     | 1.6320663 | 0.6520435 | \n",
       "| 15617     | 8405      | 15617     | 1.1502660 | 0.7353013 | \n",
       "| 18138     | 8405      | 18138     | 1.0348831 | 0.7787809 | \n",
       "\n",
       "\n"
      ],
      "text/plain": [
       "  userId xUser yUser constant  linearCoeff\n",
       "1  8963  8405   8963 2.3891690 0.3983210  \n",
       "2  9544  8405   9544 0.9443728 0.8364734  \n",
       "3 12131  8405  12131 1.5113024 0.6066688  \n",
       "4 14705  8405  14705 1.6320663 0.6520435  \n",
       "5 15617  8405  15617 1.1502660 0.7353013  \n",
       "6 18138  8405  18138 1.0348831 0.7787809  "
      ]
     },
     "metadata": {},
     "output_type": "display_data"
    }
   ],
   "source": [
    "head(correlatedPairs)"
   ]
  },
  {
   "cell_type": "markdown",
   "metadata": {},
   "source": [
    "Here the linearCoeff and constant are the coefficients in y=ax+b, respectively,for the linear fit.\n",
    "\n",
    "I used a linear predictor here because it seems reasonable to assume that there is a strictly linear correlation between two users’ ratings. In theory at least, a 5 star rating system should be linear. In practice, of course, the difference between a 4.5 and 5 is different to the difference between a 1.5 and a 2, so while this doesn’t hold entirely, it seems to me a fair approximation to treat them as linear. There is also evidence of a bias against giving half star ratings in this data set. For example, of ratings given at 3, 3.5 or 4, only 18% were given as 3.5. Again this is another failing of the rating system, but something I’m going to overlook for now."
   ]
  },
  {
   "cell_type": "code",
   "execution_count": 7,
   "metadata": {
    "collapsed": true
   },
   "outputs": [],
   "source": [
    "MovieList <- split(powerUserRatings,f=powerUserRatings$movieId)\n",
    "names(MovieList) <- unique(powerUserRatings[order(powerUserRatings$movieId),]$movieId)"
   ]
  },
  {
   "cell_type": "markdown",
   "metadata": {},
   "source": [
    "Puts the powerUserRatings into a list so that I can more quickly call the subsets with a specific user."
   ]
  },
  {
   "cell_type": "code",
   "execution_count": 8,
   "metadata": {
    "collapsed": true
   },
   "outputs": [],
   "source": [
    "weighted.var <- function(x, w, na.rm = FALSE) {\n",
    "    if (na.rm) {\n",
    "        w <- w[i <- !is.na(x)]\n",
    "        x <- x[i]\n",
    "    }\n",
    "    sum.w <- sum(w)\n",
    "    sum.w2 <- sum(w^2)\n",
    "    mean.w <- sum(x * w) / sum(w)\n",
    "    (sum.w / (sum.w^2 - sum.w2)) * sum(w * (x - mean.w)^2, na.rm =\n",
    "na.rm)\n",
    "}"
   ]
  },
  {
   "cell_type": "markdown",
   "metadata": {},
   "source": [
    "Code to calculated a weighted variance."
   ]
  },
  {
   "cell_type": "code",
   "execution_count": 9,
   "metadata": {
    "collapsed": true
   },
   "outputs": [],
   "source": [
    "linearFitsList <- split(correlatedPairs, f=correlatedPairs$xUser)\n",
    "names(linearFitsList) <- unique(correlatedPairs[order(correlatedPairs$xUser),]$xUser)"
   ]
  },
  {
   "cell_type": "code",
   "execution_count": 10,
   "metadata": {
    "collapsed": true
   },
   "outputs": [],
   "source": [
    "\n",
    "\n",
    "RatingPrediction <- function(TargetId, FilmId)\n",
    "{\n",
    "linearFits = linearFitsList[[as.character(TargetId)]]#subset(correlatedPairs, xUser==TargetId)\n",
    "numberOfReviews = 0\n",
    "scores=NULL\n",
    "weights = NULL\n",
    "trainingDataOnFilm = MovieList[[as.character(FilmId)]]\n",
    "if (!is.null(trainingDataOnFilm ))\n",
    "    {\n",
    "    trainingDataList <- split(trainingDataOnFilm,f=trainingDataOnFilm$userId)\n",
    "    names(trainingDataList) <- unique(trainingDataOnFilm[order(trainingDataOnFilm$userId),]$userId)    \n",
    "    for (i in 1:nrow(linearFits))\n",
    "    {\n",
    "        haveTheySeenTheFilm = trainingDataList[[as.character(linearFits$yUser[i])]]\n",
    "        \n",
    "        if (!is.null(haveTheySeenTheFilm))\n",
    "        {\n",
    "            numberOfReviews = numberOfReviews + 1\n",
    "            predictedScore = linearFits$constant[i] + linearFits$linearCoeff[i]*haveTheySeenTheFilm$rating\n",
    "            weight = abs(linearFits$linearCoeff[i])\n",
    "            weights[numberOfReviews] = weight\n",
    "            scores[numberOfReviews] = predictedScore\n",
    "        }\n",
    "    }\n",
    "}\n",
    "    \n",
    "weightedScore = sum(scores*weights^2)/sum(weights^2)\n",
    "weightedVariance = weighted.var(scores,weights)\n",
    "return(data.frame(weightedScore=weightedScore, weightedVariance=weightedVariance, \n",
    "\t\t\tweightedSD = sqrt(weightedVariance), numberOfReviews = numberOfReviews))\n",
    "}\n"
   ]
  },
  {
   "cell_type": "markdown",
   "metadata": {},
   "source": [
    "Given a user and a film, RatingPrediction calculates the predicted rating as well as providing a variance."
   ]
  },
  {
   "cell_type": "code",
   "execution_count": 11,
   "metadata": {
    "collapsed": true
   },
   "outputs": [],
   "source": [
    "powerUserTestRatings <- read.table(\"C:/temp/poweruserTestRatings.txt\", stringsAsFactors=FALSE)\n",
    "\n",
    "lines = nrow(powerUserTestRatings)\n",
    "ListOfPredictions = data.frame(weightedScore=rep(0,lines),weightedVariance=rep(0,lines),weightedSD=rep(0,lines),\n",
    "\t\t\t\t\tnumberOfReviews=rep(0,lines),actualRating=rep(0,lines),\n",
    "\t\t\t\t\tuserId = rep(0,lines), movieId = rep(0,lines))"
   ]
  },
  {
   "cell_type": "code",
   "execution_count": 12,
   "metadata": {},
   "outputs": [
    {
     "data": {
      "text/html": [
       "40155"
      ],
      "text/latex": [
       "40155"
      ],
      "text/markdown": [
       "40155"
      ],
      "text/plain": [
       "[1] 40155"
      ]
     },
     "metadata": {},
     "output_type": "display_data"
    }
   ],
   "source": [
    "lines"
   ]
  },
  {
   "cell_type": "code",
   "execution_count": 13,
   "metadata": {
    "collapsed": true
   },
   "outputs": [],
   "source": [
    "\n",
    "\n",
    "row=1\n",
    "for (i in 1:lines)\n",
    "{\n",
    "ratingPrediction = RatingPrediction(powerUserTestRatings$userId[i],powerUserTestRatings$movieId[i])\n",
    "ratingPrediction$actualRating = powerUserTestRatings$rating[i]\n",
    "ratingPrediction$userId = powerUserTestRatings$userId[i]\n",
    "ratingPrediction$movieId = powerUserTestRatings$movieId[i]\n",
    "ListOfPredictions[row,] = ratingPrediction\n",
    "row=row+1\n",
    "#print(i)\n",
    "}\n",
    "\n"
   ]
  },
  {
   "cell_type": "code",
   "execution_count": 14,
   "metadata": {},
   "outputs": [
    {
     "data": {
      "text/html": [
       "<table>\n",
       "<thead><tr><th></th><th scope=col>weightedScore</th><th scope=col>weightedVariance</th><th scope=col>weightedSD</th><th scope=col>numberOfReviews</th><th scope=col>actualRating</th><th scope=col>userId</th><th scope=col>movieId</th></tr></thead>\n",
       "<tbody>\n",
       "\t<tr><th scope=row>1995</th><td>2.554172   </td><td>0.074118197</td><td>0.27224657 </td><td>16         </td><td>2.0        </td><td>121535     </td><td>  3784     </td></tr>\n",
       "\t<tr><th scope=row>1996</th><td>3.299181   </td><td>0.143185199</td><td>0.37839820 </td><td>24         </td><td>4.5        </td><td> 18611     </td><td>  1956     </td></tr>\n",
       "\t<tr><th scope=row>1997</th><td>2.665695   </td><td>0.154073503</td><td>0.39252198 </td><td> 2         </td><td>3.0        </td><td>121535     </td><td>111661     </td></tr>\n",
       "\t<tr><th scope=row>1998</th><td>3.148580   </td><td>0.009703788</td><td>0.09850781 </td><td>14         </td><td>2.5        </td><td> 34576     </td><td>  2613     </td></tr>\n",
       "\t<tr><th scope=row>1999</th><td>2.058897   </td><td>0.320130509</td><td>0.56580077 </td><td>16         </td><td>2.0        </td><td> 92269     </td><td>  2456     </td></tr>\n",
       "\t<tr><th scope=row>2000</th><td>3.539668   </td><td>        NaN</td><td>       NaN </td><td> 1         </td><td>3.0        </td><td>118205     </td><td> 85387     </td></tr>\n",
       "\t<tr><th scope=row>2001</th><td>3.738453   </td><td>0.019653426</td><td>0.14019068 </td><td>10         </td><td>3.5        </td><td> 54465     </td><td>  7307     </td></tr>\n",
       "\t<tr><th scope=row>2002</th><td>2.791789   </td><td>0.016472951</td><td>0.12834699 </td><td> 9         </td><td>2.0        </td><td> 51703     </td><td>  3889     </td></tr>\n",
       "\t<tr><th scope=row>2003</th><td>3.477806   </td><td>0.027802994</td><td>0.16674230 </td><td> 5         </td><td>3.0        </td><td>131904     </td><td> 81665     </td></tr>\n",
       "\t<tr><th scope=row>2004</th><td>2.508058   </td><td>0.046278019</td><td>0.21512326 </td><td> 7         </td><td>2.0        </td><td> 83090     </td><td>  2275     </td></tr>\n",
       "\t<tr><th scope=row>2005</th><td>2.355771   </td><td>0.077578672</td><td>0.27852948 </td><td> 8         </td><td>0.5        </td><td> 46470     </td><td>  7054     </td></tr>\n",
       "</tbody>\n",
       "</table>\n"
      ],
      "text/latex": [
       "\\begin{tabular}{r|lllllll}\n",
       "  & weightedScore & weightedVariance & weightedSD & numberOfReviews & actualRating & userId & movieId\\\\\n",
       "\\hline\n",
       "\t1995 & 2.554172    & 0.074118197 & 0.27224657  & 16          & 2.0         & 121535      &   3784     \\\\\n",
       "\t1996 & 3.299181    & 0.143185199 & 0.37839820  & 24          & 4.5         &  18611      &   1956     \\\\\n",
       "\t1997 & 2.665695    & 0.154073503 & 0.39252198  &  2          & 3.0         & 121535      & 111661     \\\\\n",
       "\t1998 & 3.148580    & 0.009703788 & 0.09850781  & 14          & 2.5         &  34576      &   2613     \\\\\n",
       "\t1999 & 2.058897    & 0.320130509 & 0.56580077  & 16          & 2.0         &  92269      &   2456     \\\\\n",
       "\t2000 & 3.539668    &         NaN &        NaN  &  1          & 3.0         & 118205      &  85387     \\\\\n",
       "\t2001 & 3.738453    & 0.019653426 & 0.14019068  & 10          & 3.5         &  54465      &   7307     \\\\\n",
       "\t2002 & 2.791789    & 0.016472951 & 0.12834699  &  9          & 2.0         &  51703      &   3889     \\\\\n",
       "\t2003 & 3.477806    & 0.027802994 & 0.16674230  &  5          & 3.0         & 131904      &  81665     \\\\\n",
       "\t2004 & 2.508058    & 0.046278019 & 0.21512326  &  7          & 2.0         &  83090      &   2275     \\\\\n",
       "\t2005 & 2.355771    & 0.077578672 & 0.27852948  &  8          & 0.5         &  46470      &   7054     \\\\\n",
       "\\end{tabular}\n"
      ],
      "text/markdown": [
       "\n",
       "| <!--/--> | weightedScore | weightedVariance | weightedSD | numberOfReviews | actualRating | userId | movieId | \n",
       "|---|---|---|---|---|---|---|---|---|---|---|\n",
       "| 1995 | 2.554172    | 0.074118197 | 0.27224657  | 16          | 2.0         | 121535      |   3784      | \n",
       "| 1996 | 3.299181    | 0.143185199 | 0.37839820  | 24          | 4.5         |  18611      |   1956      | \n",
       "| 1997 | 2.665695    | 0.154073503 | 0.39252198  |  2          | 3.0         | 121535      | 111661      | \n",
       "| 1998 | 3.148580    | 0.009703788 | 0.09850781  | 14          | 2.5         |  34576      |   2613      | \n",
       "| 1999 | 2.058897    | 0.320130509 | 0.56580077  | 16          | 2.0         |  92269      |   2456      | \n",
       "| 2000 | 3.539668    |         NaN |        NaN  |  1          | 3.0         | 118205      |  85387      | \n",
       "| 2001 | 3.738453    | 0.019653426 | 0.14019068  | 10          | 3.5         |  54465      |   7307      | \n",
       "| 2002 | 2.791789    | 0.016472951 | 0.12834699  |  9          | 2.0         |  51703      |   3889      | \n",
       "| 2003 | 3.477806    | 0.027802994 | 0.16674230  |  5          | 3.0         | 131904      |  81665      | \n",
       "| 2004 | 2.508058    | 0.046278019 | 0.21512326  |  7          | 2.0         |  83090      |   2275      | \n",
       "| 2005 | 2.355771    | 0.077578672 | 0.27852948  |  8          | 0.5         |  46470      |   7054      | \n",
       "\n",
       "\n"
      ],
      "text/plain": [
       "     weightedScore weightedVariance weightedSD numberOfReviews actualRating\n",
       "1995 2.554172      0.074118197      0.27224657 16              2.0         \n",
       "1996 3.299181      0.143185199      0.37839820 24              4.5         \n",
       "1997 2.665695      0.154073503      0.39252198  2              3.0         \n",
       "1998 3.148580      0.009703788      0.09850781 14              2.5         \n",
       "1999 2.058897      0.320130509      0.56580077 16              2.0         \n",
       "2000 3.539668              NaN             NaN  1              3.0         \n",
       "2001 3.738453      0.019653426      0.14019068 10              3.5         \n",
       "2002 2.791789      0.016472951      0.12834699  9              2.0         \n",
       "2003 3.477806      0.027802994      0.16674230  5              3.0         \n",
       "2004 2.508058      0.046278019      0.21512326  7              2.0         \n",
       "2005 2.355771      0.077578672      0.27852948  8              0.5         \n",
       "     userId movieId\n",
       "1995 121535   3784 \n",
       "1996  18611   1956 \n",
       "1997 121535 111661 \n",
       "1998  34576   2613 \n",
       "1999  92269   2456 \n",
       "2000 118205  85387 \n",
       "2001  54465   7307 \n",
       "2002  51703   3889 \n",
       "2003 131904  81665 \n",
       "2004  83090   2275 \n",
       "2005  46470   7054 "
      ]
     },
     "metadata": {},
     "output_type": "display_data"
    }
   ],
   "source": [
    "ListOfPredictions[1995:2005,]"
   ]
  },
  {
   "cell_type": "code",
   "execution_count": 15,
   "metadata": {
    "collapsed": true
   },
   "outputs": [],
   "source": [
    "\n",
    "\n",
    "ListOfPredictions$differenceFromMean = abs(ListOfPredictions$actualRating - mean(powerUserTestRatings$rating))\n",
    "ListOfPredictions$differenceFromPrediction = abs(ListOfPredictions$actualRating - ListOfPredictions$weightedScore)\n",
    "\n",
    "ListOfPredictionsWithoutNans <- subset(ListOfPredictions, !is.nan(weightedSD))"
   ]
  },
  {
   "cell_type": "markdown",
   "metadata": {},
   "source": [
    "As a null hypothesis we presume that the mean rating is a better prediction than the new peer prediction. The mean rating in the training set is roughly 3.52, so in my view the best way to test if the peer prediction is better is to compare the number of times the peer predictor is closer to the real rating than the average.\n"
   ]
  },
  {
   "cell_type": "code",
   "execution_count": 16,
   "metadata": {},
   "outputs": [
    {
     "data": {
      "text/html": [
       "28898.2967874486"
      ],
      "text/latex": [
       "28898.2967874486"
      ],
      "text/markdown": [
       "28898.2967874486"
      ],
      "text/plain": [
       "[1] 28898.3"
      ]
     },
     "metadata": {},
     "output_type": "display_data"
    },
    {
     "data": {
      "text/html": [
       "22339.4533280056"
      ],
      "text/latex": [
       "22339.4533280056"
      ],
      "text/markdown": [
       "22339.4533280056"
      ],
      "text/plain": [
       "[1] 22339.45"
      ]
     },
     "metadata": {},
     "output_type": "display_data"
    },
    {
     "data": {
      "text/html": [
       "24203"
      ],
      "text/latex": [
       "24203"
      ],
      "text/markdown": [
       "24203"
      ],
      "text/plain": [
       "[1] 24203"
      ]
     },
     "metadata": {},
     "output_type": "display_data"
    },
    {
     "data": {
      "text/html": [
       "0.634217284209423"
      ],
      "text/latex": [
       "0.634217284209423"
      ],
      "text/markdown": [
       "0.634217284209423"
      ],
      "text/plain": [
       "[1] 0.6342173"
      ]
     },
     "metadata": {},
     "output_type": "display_data"
    },
    {
     "data": {
      "text/html": [
       "0.00246555709084918"
      ],
      "text/latex": [
       "0.00246555709084918"
      ],
      "text/markdown": [
       "0.00246555709084918"
      ],
      "text/plain": [
       "[1] 0.002465557"
      ]
     },
     "metadata": {},
     "output_type": "display_data"
    }
   ],
   "source": [
    "sum(ListOfPredictionsWithoutNans$differenceFromMean)\n",
    "sum(ListOfPredictionsWithoutNans$differenceFromPrediction)\n",
    "failures=nrow(subset(ListOfPredictionsWithoutNans,differenceFromMean < differenceFromPrediction))\n",
    "successes=nrow(subset(ListOfPredictionsWithoutNans,differenceFromMean > differenceFromPrediction))\n",
    "\n",
    "successes\n",
    "\n",
    "successes/(successes+failures)\n",
    "\n",
    "binomialError = sqrt((successes/(successes+failures))*(1 - successes/(successes+failures))/ (successes+failures) )\n",
    "\n",
    "binomialError\n"
   ]
  },
  {
   "cell_type": "markdown",
   "metadata": {},
   "source": [
    "So in 63.4% of cases the new Peer predictor was an improvement upon the Average rating as a gauge for the rating a user would give a film. The graph below also shows the average rating for groups of reviews binned according to the Peer Predictions. It's clear it isn't a perfect fit but it certainly looks encouraging."
   ]
  },
  {
   "cell_type": "code",
   "execution_count": 17,
   "metadata": {
    "collapsed": true
   },
   "outputs": [],
   "source": [
    "write.table(ListOfPredictionsWithoutNans,\"C:/temp/ListOfPredictionsForComparision.txt\")"
   ]
  },
  {
   "cell_type": "markdown",
   "metadata": {},
   "source": [
    "save the List I used so that after completing the Tag Association Model I can compare the two."
   ]
  },
  {
   "cell_type": "code",
   "execution_count": 18,
   "metadata": {},
   "outputs": [],
   "source": [
    "means = ddply(ListOfPredictionsWithoutNans, .(round(weightedScore*10)/10), function(x)data.frame(\n",
    "    count=nrow(x),meanPrediction=mean(x$weightedScore),meanActualRating=mean(x$actualRating)))"
   ]
  },
  {
   "cell_type": "code",
   "execution_count": 19,
   "metadata": {},
   "outputs": [
    {
     "data": {},
     "metadata": {},
     "output_type": "display_data"
    },
    {
     "data": {
      "image/png": "[encoded data removed]",
      "text/plain": [
       "plot without title"
      ]
     },
     "metadata": {},
     "output_type": "display_data"
    }
   ],
   "source": [
    "ggplot(ListOfPredictionsWithoutNans , aes(y=actualRating, x=weightedScore))+\n",
    "geom_jitter(height = 0.1, width = 0, aes(color=as.factor(userId)))+stat_function(fun=function(x)x)+\n",
    "geom_point(data=means, aes(x=meanPrediction,y=meanActualRating,size=2))+\n",
    "theme(legend.position = \"none\")+xlab(\"Peer Prediction\")+ylab(\"Actual Rating\")"
   ]
  },
  {
   "cell_type": "markdown",
   "metadata": {},
   "source": [
    "It looks like the model fits reasonably well. I expected the model to not fit perfectly at the ends, since the model is always going to effectively hedge it's bets. It won't predict a film is going to be a 0.5 star film since that would require it to have been universally panned by all  of the user's peers, and even then that might not be enough to encourage it to go all the way, depending on the strength of the fit."
   ]
  },
  {
   "cell_type": "code",
   "execution_count": 20,
   "metadata": {},
   "outputs": [
    {
     "data": {
      "text/html": [
       "<table>\n",
       "<thead><tr><th scope=col>movieId</th><th scope=col>userId</th><th scope=col>title</th><th scope=col>weightedScore</th><th scope=col>actualRating</th></tr></thead>\n",
       "<tbody>\n",
       "\t<tr><td>  1                                          </td><td> 46470                                       </td><td>Toy Story (1995)                             </td><td>2.981780                                     </td><td>5                                            </td></tr>\n",
       "\t<tr><td> 25                                          </td><td> 46470                                       </td><td>Leaving Las Vegas (1995)                     </td><td>2.709189                                     </td><td>5                                            </td></tr>\n",
       "\t<tr><td> 34                                          </td><td> 74142                                       </td><td>Babe (1995)                                  </td><td>2.163401                                     </td><td>5                                            </td></tr>\n",
       "\t<tr><td> 50                                          </td><td> 74142                                       </td><td>Usual Suspects, The (1995)                   </td><td>2.514911                                     </td><td>5                                            </td></tr>\n",
       "\t<tr><td>123                                          </td><td>114406                                       </td><td>Chungking Express (Chung Hing sam lam) (1994)</td><td>2.972128                                     </td><td>5                                            </td></tr>\n",
       "\t<tr><td>537                                          </td><td> 83090                                       </td><td>Sirens (1994)                                </td><td>2.594878                                     </td><td>5                                            </td></tr>\n",
       "\t<tr><td>539                                          </td><td> 46470                                       </td><td>Sleepless in Seattle (1993)                  </td><td>2.603372                                     </td><td>5                                            </td></tr>\n",
       "\t<tr><td>551                                          </td><td> 74142                                       </td><td>Nightmare Before Christmas, The (1993)       </td><td>2.064946                                     </td><td>5                                            </td></tr>\n",
       "\t<tr><td>785                                          </td><td>136268                                       </td><td>Kingpin (1996)                               </td><td>2.908149                                     </td><td>5                                            </td></tr>\n",
       "\t<tr><td>912                                          </td><td> 46470                                       </td><td>Casablanca (1942)                            </td><td>2.851538                                     </td><td>5                                            </td></tr>\n",
       "</tbody>\n",
       "</table>\n"
      ],
      "text/latex": [
       "\\begin{tabular}{r|lllll}\n",
       " movieId & userId & title & weightedScore & actualRating\\\\\n",
       "\\hline\n",
       "\t   1                                           &  46470                                        & Toy Story (1995)                              & 2.981780                                      & 5                                            \\\\\n",
       "\t  25                                           &  46470                                        & Leaving Las Vegas (1995)                      & 2.709189                                      & 5                                            \\\\\n",
       "\t  34                                           &  74142                                        & Babe (1995)                                   & 2.163401                                      & 5                                            \\\\\n",
       "\t  50                                           &  74142                                        & Usual Suspects, The (1995)                    & 2.514911                                      & 5                                            \\\\\n",
       "\t 123                                           & 114406                                        & Chungking Express (Chung Hing sam lam) (1994) & 2.972128                                      & 5                                            \\\\\n",
       "\t 537                                           &  83090                                        & Sirens (1994)                                 & 2.594878                                      & 5                                            \\\\\n",
       "\t 539                                           &  46470                                        & Sleepless in Seattle (1993)                   & 2.603372                                      & 5                                            \\\\\n",
       "\t 551                                           &  74142                                        & Nightmare Before Christmas, The (1993)        & 2.064946                                      & 5                                            \\\\\n",
       "\t 785                                           & 136268                                        & Kingpin (1996)                                & 2.908149                                      & 5                                            \\\\\n",
       "\t 912                                           &  46470                                        & Casablanca (1942)                             & 2.851538                                      & 5                                            \\\\\n",
       "\\end{tabular}\n"
      ],
      "text/markdown": [
       "\n",
       "movieId | userId | title | weightedScore | actualRating | \n",
       "|---|---|---|---|---|---|---|---|---|---|\n",
       "|   1                                           |  46470                                        | Toy Story (1995)                              | 2.981780                                      | 5                                             | \n",
       "|  25                                           |  46470                                        | Leaving Las Vegas (1995)                      | 2.709189                                      | 5                                             | \n",
       "|  34                                           |  74142                                        | Babe (1995)                                   | 2.163401                                      | 5                                             | \n",
       "|  50                                           |  74142                                        | Usual Suspects, The (1995)                    | 2.514911                                      | 5                                             | \n",
       "| 123                                           | 114406                                        | Chungking Express (Chung Hing sam lam) (1994) | 2.972128                                      | 5                                             | \n",
       "| 537                                           |  83090                                        | Sirens (1994)                                 | 2.594878                                      | 5                                             | \n",
       "| 539                                           |  46470                                        | Sleepless in Seattle (1993)                   | 2.603372                                      | 5                                             | \n",
       "| 551                                           |  74142                                        | Nightmare Before Christmas, The (1993)        | 2.064946                                      | 5                                             | \n",
       "| 785                                           | 136268                                        | Kingpin (1996)                                | 2.908149                                      | 5                                             | \n",
       "| 912                                           |  46470                                        | Casablanca (1942)                             | 2.851538                                      | 5                                             | \n",
       "\n",
       "\n"
      ],
      "text/plain": [
       "   movieId userId title                                         weightedScore\n",
       "1    1      46470 Toy Story (1995)                              2.981780     \n",
       "2   25      46470 Leaving Las Vegas (1995)                      2.709189     \n",
       "3   34      74142 Babe (1995)                                   2.163401     \n",
       "4   50      74142 Usual Suspects, The (1995)                    2.514911     \n",
       "5  123     114406 Chungking Express (Chung Hing sam lam) (1994) 2.972128     \n",
       "6  537      83090 Sirens (1994)                                 2.594878     \n",
       "7  539      46470 Sleepless in Seattle (1993)                   2.603372     \n",
       "8  551      74142 Nightmare Before Christmas, The (1993)        2.064946     \n",
       "9  785     136268 Kingpin (1996)                                2.908149     \n",
       "10 912      46470 Casablanca (1942)                             2.851538     \n",
       "   actualRating\n",
       "1  5           \n",
       "2  5           \n",
       "3  5           \n",
       "4  5           \n",
       "5  5           \n",
       "6  5           \n",
       "7  5           \n",
       "8  5           \n",
       "9  5           \n",
       "10 5           "
      ]
     },
     "metadata": {},
     "output_type": "display_data"
    }
   ],
   "source": [
    "merge(subset(movies, movieId %in% subset(ListOfPredictionsWithoutNans,     (weightedScore < 3 & actualRating == 5)  )$movieId),\n",
    "      subset(ListOfPredictionsWithoutNans,     (weightedScore < 3 & actualRating == 5) \n",
    "            ))[c(\"movieId\",\"userId\",\"title\",\"weightedScore\",\"actualRating\")][1:10,]"
   ]
  },
  {
   "cell_type": "markdown",
   "metadata": {},
   "source": [
    "So as you can see above, the model isn't perfect. Like suggesting Casablanca would be rated below 3 stars."
   ]
  },
  {
   "cell_type": "markdown",
   "metadata": {},
   "source": [
    "I also considered modifying the model so that it only considers using the ratings of other users where the linear coefficient was large, i.e. only use recommendations from people who like the same thing rather than an influence from all people. In this way we wouldn’t get so much of the effect of ‘everyone likes this film so this user probably will’, but instead we get ‘people who liked what this person liked, liked this,so this person will’. \n",
    "\n",
    "The problem with this is that among the 48 power users, there were 20 who had no coefficient above 0.6 with any other power user and so for them this method would not work. The cost for what may be no improvement is simply not worth it. The next approach to improving this model would be to  use only highly correlated peers, but i would need more processing power than i have here.\n"
   ]
  }
 ],
 "metadata": {
  "kernelspec": {
   "display_name": "R",
   "language": "R",
   "name": "ir"
  },
  "language_info": {
   "codemirror_mode": "r",
   "file_extension": ".r",
   "mimetype": "text/x-r-source",
   "name": "R",
   "pygments_lexer": "r",
   "version": "3.3.2"
  }
 },
 "nbformat": 4,
 "nbformat_minor": 2
}
