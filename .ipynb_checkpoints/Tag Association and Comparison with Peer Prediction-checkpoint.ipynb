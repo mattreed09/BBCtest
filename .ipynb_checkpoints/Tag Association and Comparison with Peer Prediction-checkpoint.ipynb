{
 "cells": [
  {
   "cell_type": "markdown",
   "metadata": {},
   "source": [
    "This is part 2. Read Peer Prediction before reading this.\n",
    "\n",
    "This data set also contains tags that have been applied to films and a measure of their relevance. Would it be possible to use the tags to create a better model for predicting ratings?\n",
    "\n",
    "We can find each user's favourite tags by taking all the films they’ve watched in the training set, getting the relevance score from the genome-scores.csv, multiplying that by the star rating and taking the mean to get a rough idea of how important they consider any given tag. We can the use that score to infer how likely they are to like any film given the films tags.\n"
   ]
  },
  {
   "cell_type": "code",
   "execution_count": 1,
   "metadata": {
    "collapsed": true
   },
   "outputs": [],
   "source": [
    "library(plyr)\n",
    "library(ggplot2)"
   ]
  },
  {
   "cell_type": "code",
   "execution_count": 2,
   "metadata": {
    "collapsed": true
   },
   "outputs": [],
   "source": [
    "\n",
    "genomeTags <- read.csv(\"C:/Users/matt/Downloads/ml-20m/ml-20m/genome-tags.csv\",stringsAsFactors = FALSE)\n",
    "\n",
    "#ratings <- read.csv(\"C:/Users/matt/Downloads/ml-20m/ml-20m/ratings.csv\",stringsAsFactors = FALSE)\n",
    "#randomRatings <- ratings[sample(nrow(ratings)),]\n",
    "#trainingRatings <- randomRatings [1:16000000,]\n",
    "#testRatings <- randomRatings [16000001:nrow(randomRatings),]\n",
    "#write.table(trainingRatings,\"C:/temp/trainingRatings.txt\")\n",
    "#write.table(testRatings,\"C:/temp/testRatings.txt\")\n"
   ]
  },
  {
   "cell_type": "code",
   "execution_count": 3,
   "metadata": {},
   "outputs": [
    {
     "data": {
      "text/html": [
       "<table>\n",
       "<thead><tr><th scope=col>movieId</th><th scope=col>title</th><th scope=col>genres</th></tr></thead>\n",
       "<tbody>\n",
       "\t<tr><td>1                                          </td><td>Toy Story (1995)                           </td><td>Adventure|Animation|Children|Comedy|Fantasy</td></tr>\n",
       "\t<tr><td>2                                          </td><td>Jumanji (1995)                             </td><td>Adventure|Children|Fantasy                 </td></tr>\n",
       "\t<tr><td>3                                          </td><td>Grumpier Old Men (1995)                    </td><td>Comedy|Romance                             </td></tr>\n",
       "\t<tr><td>4                                          </td><td>Waiting to Exhale (1995)                   </td><td>Comedy|Drama|Romance                       </td></tr>\n",
       "\t<tr><td>5                                          </td><td>Father of the Bride Part II (1995)         </td><td>Comedy                                     </td></tr>\n",
       "\t<tr><td>6                                          </td><td>Heat (1995)                                </td><td>Action|Crime|Thriller                      </td></tr>\n",
       "</tbody>\n",
       "</table>\n"
      ],
      "text/latex": [
       "\\begin{tabular}{r|lll}\n",
       " movieId & title & genres\\\\\n",
       "\\hline\n",
       "\t 1                                                                                   & Toy Story (1995)                                                                    & Adventure\\textbar{}Animation\\textbar{}Children\\textbar{}Comedy\\textbar{}Fantasy\\\\\n",
       "\t 2                                                               & Jumanji (1995)                                                  & Adventure\\textbar{}Children\\textbar{}Fantasy                 \\\\\n",
       "\t 3                                                     & Grumpier Old Men (1995)                               & Comedy\\textbar{}Romance                             \\\\\n",
       "\t 4                                                               & Waiting to Exhale (1995)                                        & Comedy\\textbar{}Drama\\textbar{}Romance                       \\\\\n",
       "\t 5                                           & Father of the Bride Part II (1995)          & Comedy                                     \\\\\n",
       "\t 6                                                               & Heat (1995)                                                     & Action\\textbar{}Crime\\textbar{}Thriller                      \\\\\n",
       "\\end{tabular}\n"
      ],
      "text/markdown": [
       "\n",
       "movieId | title | genres | \n",
       "|---|---|---|---|---|---|\n",
       "| 1                                           | Toy Story (1995)                            | Adventure|Animation|Children|Comedy|Fantasy | \n",
       "| 2                                           | Jumanji (1995)                              | Adventure|Children|Fantasy                  | \n",
       "| 3                                           | Grumpier Old Men (1995)                     | Comedy|Romance                              | \n",
       "| 4                                           | Waiting to Exhale (1995)                    | Comedy|Drama|Romance                        | \n",
       "| 5                                           | Father of the Bride Part II (1995)          | Comedy                                      | \n",
       "| 6                                           | Heat (1995)                                 | Action|Crime|Thriller                       | \n",
       "\n",
       "\n"
      ],
      "text/plain": [
       "  movieId title                             \n",
       "1 1       Toy Story (1995)                  \n",
       "2 2       Jumanji (1995)                    \n",
       "3 3       Grumpier Old Men (1995)           \n",
       "4 4       Waiting to Exhale (1995)          \n",
       "5 5       Father of the Bride Part II (1995)\n",
       "6 6       Heat (1995)                       \n",
       "  genres                                     \n",
       "1 Adventure|Animation|Children|Comedy|Fantasy\n",
       "2 Adventure|Children|Fantasy                 \n",
       "3 Comedy|Romance                             \n",
       "4 Comedy|Drama|Romance                       \n",
       "5 Comedy                                     \n",
       "6 Action|Crime|Thriller                      "
      ]
     },
     "metadata": {},
     "output_type": "display_data"
    }
   ],
   "source": [
    "movies <- read.csv(\"C:/Users/matt/Downloads/ml-20m/ml-20m/movies.csv\",stringsAsFactors = FALSE)\n",
    "head(movies)"
   ]
  },
  {
   "cell_type": "code",
   "execution_count": 4,
   "metadata": {},
   "outputs": [
    {
     "data": {
      "text/html": [
       "<table>\n",
       "<thead><tr><th></th><th scope=col>userId</th><th scope=col>movieId</th><th scope=col>rating</th><th scope=col>timestamp</th></tr></thead>\n",
       "<tbody>\n",
       "\t<tr><th scope=row>3615981</th><td>24688     </td><td> 6773     </td><td>4.5       </td><td>1081502838</td></tr>\n",
       "\t<tr><th scope=row>10407945</th><td>71975     </td><td> 7008     </td><td>2.0       </td><td>1175632256</td></tr>\n",
       "\t<tr><th scope=row>1316750</th><td> 8963     </td><td>57418     </td><td>3.5       </td><td>1248533039</td></tr>\n",
       "\t<tr><th scope=row>13316421</th><td>92011     </td><td> 4003     </td><td>3.0       </td><td> 987550579</td></tr>\n",
       "\t<tr><th scope=row>13350145</th><td>92269     </td><td> 2300     </td><td>4.5       </td><td>1283910437</td></tr>\n",
       "\t<tr><th scope=row>3937184</th><td>26867     </td><td> 1267     </td><td>4.0       </td><td>1067718162</td></tr>\n",
       "</tbody>\n",
       "</table>\n"
      ],
      "text/latex": [
       "\\begin{tabular}{r|llll}\n",
       "  & userId & movieId & rating & timestamp\\\\\n",
       "\\hline\n",
       "\t3615981 & 24688      &  6773      & 4.5        & 1081502838\\\\\n",
       "\t10407945 & 71975      &  7008      & 2.0        & 1175632256\\\\\n",
       "\t1316750 &  8963      & 57418      & 3.5        & 1248533039\\\\\n",
       "\t13316421 & 92011      &  4003      & 3.0        &  987550579\\\\\n",
       "\t13350145 & 92269      &  2300      & 4.5        & 1283910437\\\\\n",
       "\t3937184 & 26867      &  1267      & 4.0        & 1067718162\\\\\n",
       "\\end{tabular}\n"
      ],
      "text/markdown": [
       "\n",
       "| <!--/--> | userId | movieId | rating | timestamp | \n",
       "|---|---|---|---|---|---|\n",
       "| 3615981 | 24688      |  6773      | 4.5        | 1081502838 | \n",
       "| 10407945 | 71975      |  7008      | 2.0        | 1175632256 | \n",
       "| 1316750 |  8963      | 57418      | 3.5        | 1248533039 | \n",
       "| 13316421 | 92011      |  4003      | 3.0        |  987550579 | \n",
       "| 13350145 | 92269      |  2300      | 4.5        | 1283910437 | \n",
       "| 3937184 | 26867      |  1267      | 4.0        | 1067718162 | \n",
       "\n",
       "\n"
      ],
      "text/plain": [
       "         userId movieId rating timestamp \n",
       "3615981  24688   6773   4.5    1081502838\n",
       "10407945 71975   7008   2.0    1175632256\n",
       "1316750   8963  57418   3.5    1248533039\n",
       "13316421 92011   4003   3.0     987550579\n",
       "13350145 92269   2300   4.5    1283910437\n",
       "3937184  26867   1267   4.0    1067718162"
      ]
     },
     "metadata": {},
     "output_type": "display_data"
    }
   ],
   "source": [
    "powerUserRatings <- read.table(\"C:/temp/poweruserRatings.txt\", stringsAsFactors = FALSE)\n",
    "#testRating <- read.table(\"C:/temp/testRatings.txt\")\n",
    "head(powerUserRatings)"
   ]
  },
  {
   "cell_type": "code",
   "execution_count": 5,
   "metadata": {},
   "outputs": [
    {
     "data": {
      "text/html": [
       "<table>\n",
       "<thead><tr><th></th><th scope=col>movieId</th><th scope=col>tagId</th><th scope=col>relevance</th><th scope=col>newRelevance</th><th scope=col>logRelevance</th></tr></thead>\n",
       "<tbody>\n",
       "\t<tr><th scope=row>16</th><td>1         </td><td>16        </td><td>0.28175   </td><td>0.28175   </td><td>-0.9357975</td></tr>\n",
       "\t<tr><th scope=row>17</th><td>1         </td><td>17        </td><td>0.00700   </td><td>0.00700   </td><td>-4.9548205</td></tr>\n",
       "\t<tr><th scope=row>20</th><td>1         </td><td>20        </td><td>0.18450   </td><td>0.18450   </td><td>-1.4861520</td></tr>\n",
       "\t<tr><th scope=row>29</th><td>1         </td><td>29        </td><td>0.89200   </td><td>0.89200   </td><td> 2.1113349</td></tr>\n",
       "\t<tr><th scope=row>38</th><td>1         </td><td>38        </td><td>0.01250   </td><td>0.01250   </td><td>-4.3694479</td></tr>\n",
       "\t<tr><th scope=row>39</th><td>1         </td><td>39        </td><td>0.01850   </td><td>0.01850   </td><td>-3.9713113</td></tr>\n",
       "</tbody>\n",
       "</table>\n"
      ],
      "text/latex": [
       "\\begin{tabular}{r|lllll}\n",
       "  & movieId & tagId & relevance & newRelevance & logRelevance\\\\\n",
       "\\hline\n",
       "\t16 & 1          & 16         & 0.28175    & 0.28175    & -0.9357975\\\\\n",
       "\t17 & 1          & 17         & 0.00700    & 0.00700    & -4.9548205\\\\\n",
       "\t20 & 1          & 20         & 0.18450    & 0.18450    & -1.4861520\\\\\n",
       "\t29 & 1          & 29         & 0.89200    & 0.89200    &  2.1113349\\\\\n",
       "\t38 & 1          & 38         & 0.01250    & 0.01250    & -4.3694479\\\\\n",
       "\t39 & 1          & 39         & 0.01850    & 0.01850    & -3.9713113\\\\\n",
       "\\end{tabular}\n"
      ],
      "text/markdown": [
       "\n",
       "| <!--/--> | movieId | tagId | relevance | newRelevance | logRelevance | \n",
       "|---|---|---|---|---|---|\n",
       "| 16 | 1          | 16         | 0.28175    | 0.28175    | -0.9357975 | \n",
       "| 17 | 1          | 17         | 0.00700    | 0.00700    | -4.9548205 | \n",
       "| 20 | 1          | 20         | 0.18450    | 0.18450    | -1.4861520 | \n",
       "| 29 | 1          | 29         | 0.89200    | 0.89200    |  2.1113349 | \n",
       "| 38 | 1          | 38         | 0.01250    | 0.01250    | -4.3694479 | \n",
       "| 39 | 1          | 39         | 0.01850    | 0.01850    | -3.9713113 | \n",
       "\n",
       "\n"
      ],
      "text/plain": [
       "   movieId tagId relevance newRelevance logRelevance\n",
       "16 1       16    0.28175   0.28175      -0.9357975  \n",
       "17 1       17    0.00700   0.00700      -4.9548205  \n",
       "20 1       20    0.18450   0.18450      -1.4861520  \n",
       "29 1       29    0.89200   0.89200       2.1113349  \n",
       "38 1       38    0.01250   0.01250      -4.3694479  \n",
       "39 1       39    0.01850   0.01850      -3.9713113  "
      ]
     },
     "metadata": {},
     "output_type": "display_data"
    }
   ],
   "source": [
    "\n",
    "#trimmedGenomeScores <- subset(genomeScores, tagId %in% sample(1128,100))\n",
    "#write.table(trimmedGenomeScores, \"C:/temp/trimmedGenomeScores.txt\")\n",
    "\n",
    "trimmedGenomeScores <- read.table(\"C:/temp/trimmedGenomeScores.txt\")\n",
    "\n",
    "head(trimmedGenomeScores)"
   ]
  },
  {
   "cell_type": "markdown",
   "metadata": {},
   "source": [
    "trimmedGenomeScores is the file genomeScores, but reduced to a random 100 tags compared to the slightly over 1000 that the full file has. I also added a column called newRelevance and logRelevance that I do not use."
   ]
  },
  {
   "cell_type": "code",
   "execution_count": 6,
   "metadata": {
    "collapsed": true
   },
   "outputs": [],
   "source": [
    "TagAffinity2 <- function(thisUserId)\n",
    "{\n",
    "\n",
    "\tusersReviews = subset(powerUserRatings , userId == thisUserId)\n",
    "\tusersTagAffinity = data.frame(tagId = trimmedGenomeScores$tagId[1:100], constant = rep(0,100),\n",
    "\t\t\t\t\tlinearCoeff = rep(0,100), error=rep(0,100))\n",
    "\tmovietags2 = subset(trimmedGenomeScores, movieId %in% usersReviews$movieId)\n",
    "\tmovietags2=movietags2[order(movietags2$movieId, movietags2$tagId),]\n",
    "\tusableReviews = subset(usersReviews, movieId %in% unique(movietags2$movieId))\n",
    "\tusableReviews = usableReviews[order(usableReviews$movieId),]\n",
    "\n",
    "\tfor (j in 1:100)\n",
    "\t{\n",
    "\t\ttags= movietags2[(0:((nrow(movietags2)-1)/100))*100 + j,]\n",
    "\t\tfit = summary(lm(formula=usableReviews$rating~tags$relevance, weight=tags$relevance))\n",
    "\t\tusersTagAffinity$constant[j]=fit$coefficients[1,1]\n",
    "\t\tusersTagAffinity$linearCoeff[j]=fit$coefficients[2,1]\n",
    "\t\tusersTagAffinity$error[j] = fit$coefficients[2,4]\n",
    "\t}\n",
    "return(usersTagAffinity)\n",
    "}\n"
   ]
  },
  {
   "cell_type": "markdown",
   "metadata": {},
   "source": [
    "TagAffinity2 creates simple linear models for each of the 100 tags in the dataset for each of the power users."
   ]
  },
  {
   "cell_type": "code",
   "execution_count": 7,
   "metadata": {},
   "outputs": [],
   "source": [
    "powerUserAffinities <- vector(mode=\"list\", length=length(unique(powerUserRatings$userId)))\n",
    "names(powerUserAffinities) = unique(powerUserRatings$userId)\n"
   ]
  },
  {
   "cell_type": "code",
   "execution_count": 8,
   "metadata": {},
   "outputs": [
    {
     "data": {
      "text/html": [
       "<table>\n",
       "<thead><tr><th scope=col>tagId</th><th scope=col>constant</th><th scope=col>linearCoeff</th><th scope=col>error</th></tr></thead>\n",
       "<tbody>\n",
       "\t<tr><td>16          </td><td>3.015825    </td><td> 0.27278153 </td><td>1.015612e-05</td></tr>\n",
       "\t<tr><td>17          </td><td>3.000330    </td><td> 0.47246261 </td><td>9.149439e-22</td></tr>\n",
       "\t<tr><td>20          </td><td>2.917154    </td><td> 0.04424822 </td><td>2.249569e-01</td></tr>\n",
       "\t<tr><td>29          </td><td>2.857660    </td><td> 0.23867045 </td><td>1.289482e-09</td></tr>\n",
       "\t<tr><td>38          </td><td>2.935657    </td><td>-0.66246294 </td><td>5.296169e-17</td></tr>\n",
       "\t<tr><td>39          </td><td>2.992734    </td><td> 0.10001980 </td><td>1.227834e-01</td></tr>\n",
       "</tbody>\n",
       "</table>\n"
      ],
      "text/latex": [
       "\\begin{tabular}{r|llll}\n",
       " tagId & constant & linearCoeff & error\\\\\n",
       "\\hline\n",
       "\t 16           & 3.015825     &  0.27278153  & 1.015612e-05\\\\\n",
       "\t 17           & 3.000330     &  0.47246261  & 9.149439e-22\\\\\n",
       "\t 20           & 2.917154     &  0.04424822  & 2.249569e-01\\\\\n",
       "\t 29           & 2.857660     &  0.23867045  & 1.289482e-09\\\\\n",
       "\t 38           & 2.935657     & -0.66246294  & 5.296169e-17\\\\\n",
       "\t 39           & 2.992734     &  0.10001980  & 1.227834e-01\\\\\n",
       "\\end{tabular}\n"
      ],
      "text/markdown": [
       "\n",
       "tagId | constant | linearCoeff | error | \n",
       "|---|---|---|---|---|---|\n",
       "| 16           | 3.015825     |  0.27278153  | 1.015612e-05 | \n",
       "| 17           | 3.000330     |  0.47246261  | 9.149439e-22 | \n",
       "| 20           | 2.917154     |  0.04424822  | 2.249569e-01 | \n",
       "| 29           | 2.857660     |  0.23867045  | 1.289482e-09 | \n",
       "| 38           | 2.935657     | -0.66246294  | 5.296169e-17 | \n",
       "| 39           | 2.992734     |  0.10001980  | 1.227834e-01 | \n",
       "\n",
       "\n"
      ],
      "text/plain": [
       "  tagId constant linearCoeff error       \n",
       "1 16    3.015825  0.27278153 1.015612e-05\n",
       "2 17    3.000330  0.47246261 9.149439e-22\n",
       "3 20    2.917154  0.04424822 2.249569e-01\n",
       "4 29    2.857660  0.23867045 1.289482e-09\n",
       "5 38    2.935657 -0.66246294 5.296169e-17\n",
       "6 39    2.992734  0.10001980 1.227834e-01"
      ]
     },
     "metadata": {},
     "output_type": "display_data"
    }
   ],
   "source": [
    "count=0\n",
    "for (i in unique(powerUserRatings$userId))\n",
    "{\n",
    "\tpowerUserAffinities[[as.character(i)]] = TagAffinity2(i)\n",
    "\t#print(count)\n",
    "\tcount = count + 1\n",
    "}\n",
    "head(powerUserAffinities[[as.character(70201)]])"
   ]
  },
  {
   "cell_type": "markdown",
   "metadata": {},
   "source": [
    "PowerUserAffinities is created as a dictionary to hold the linear fits between each user and the 100 tags. "
   ]
  },
  {
   "cell_type": "code",
   "execution_count": 9,
   "metadata": {
    "collapsed": true
   },
   "outputs": [],
   "source": [
    "\n",
    "UserFits <- function(thisUserId)\n",
    "{\n",
    "thisUsersTests = subset(powerUserTestRatings,userId == thisUserId)\n",
    "affinityStrengths = NULL\n",
    "count = 1\n",
    "basetags = subset(trimmedGenomeScores, movieId %in% thisUsersTests$movieId)\n",
    "affinities = powerUserAffinities[[as.character(thisUserId)]]\n",
    "for (filmId in thisUsersTests$movieId)\n",
    "{\n",
    "\ttags = subset(basetags , movieId == filmId)\n",
    "\tweights = (tags$relevance^3)/sum(tags$relevance^3)\n",
    "\taffinityStrengths[count] = sum(weights*(affinities$constant +affinities$linearCoeff*tags$relevance))\n",
    "\tcount = count + 1\n",
    "\t#print(count)\n",
    "}\n",
    "toReturn=data.frame(movieId = thisUsersTests$movieId, predictions = affinityStrengths)\n",
    "return(subset(toReturn,))\n",
    "}\n"
   ]
  },
  {
   "cell_type": "markdown",
   "metadata": {},
   "source": [
    "UserFits is the method which takes the userId and then loops through the films they have watched in the test set, and provides a rating for them. The weight was set to relevance cubed to ensure the lower relevance tags had an even further diminished effect."
   ]
  },
  {
   "cell_type": "code",
   "execution_count": 10,
   "metadata": {},
   "outputs": [],
   "source": [
    "powerUserTestRatings <- read.table(\"C:/temp/poweruserTestRatings.txt\", stringsAsFactors=FALSE)\n",
    "\n",
    "\n",
    "UserFilmPredictions <- vector(mode=\"list\", length=length(unique(powerUserTestRatings$userId)))\n",
    "names(UserFilmPredictions) = unique(powerUserTestRatings$userId)\n",
    "for (user in unique(powerUserTestRatings$userId))\n",
    "{\n",
    "\tpredictions=UserFits(user)\n",
    "\tpredictions=predictions[order(predictions$movieId),]\n",
    "\tratings=subset(powerUserTestRatings, user==userId)\n",
    "\tratings=ratings[order(ratings$movieId),]\n",
    "\tpredictions$actualRating=ratings$rating\n",
    "\tpredictions$differenceFromMean=abs(mean(powerUserRatings$rating) - predictions$actualRating)\n",
    "\tpredictions$differenceFromPrediction=abs(predictions$predictions - predictions$actualRating)\n",
    "\tpredictions$userId = user\n",
    "\tUserFilmPredictions[[as.character(user)]]=predictions\n",
    "#\tprint(user)\n",
    "}\n"
   ]
  },
  {
   "cell_type": "code",
   "execution_count": 11,
   "metadata": {},
   "outputs": [],
   "source": [
    "\n",
    "bigList=do.call(\"rbind\",UserFilmPredictions)\n",
    "\n",
    "bigList2=(subset(bigList, predictions != 0))"
   ]
  },
  {
   "cell_type": "code",
   "execution_count": 12,
   "metadata": {},
   "outputs": [
    {
     "data": {
      "text/html": [
       "13996"
      ],
      "text/latex": [
       "13996"
      ],
      "text/markdown": [
       "13996"
      ],
      "text/plain": [
       "[1] 13996"
      ]
     },
     "metadata": {},
     "output_type": "display_data"
    },
    {
     "data": {
      "text/html": [
       "20846"
      ],
      "text/latex": [
       "20846"
      ],
      "text/markdown": [
       "20846"
      ],
      "text/plain": [
       "[1] 20846"
      ]
     },
     "metadata": {},
     "output_type": "display_data"
    },
    {
     "data": {
      "text/html": [
       "0.598300901211182"
      ],
      "text/latex": [
       "0.598300901211182"
      ],
      "text/markdown": [
       "0.598300901211182"
      ],
      "text/plain": [
       "[1] 0.5983009"
      ]
     },
     "metadata": {},
     "output_type": "display_data"
    },
    {
     "data": {
      "text/html": [
       "0.00262638699349575"
      ],
      "text/latex": [
       "0.00262638699349575"
      ],
      "text/markdown": [
       "0.00262638699349575"
      ],
      "text/plain": [
       "[1] 0.002626387"
      ]
     },
     "metadata": {},
     "output_type": "display_data"
    }
   ],
   "source": [
    "successes =nrow(subset(bigList2, differenceFromMean < differenceFromPrediction))\n",
    "successes\n",
    "failures = nrow(subset(bigList2, differenceFromMean > differenceFromPrediction))\n",
    "failures\n",
    " nrow(subset(bigList2, differenceFromMean > differenceFromPrediction))/nrow(bigList2)\n",
    "\n",
    "binomialError = sqrt((successes/(successes+failures))*(1 - successes/(successes+failures))/ (successes+failures) )\n",
    "\n",
    "binomialError"
   ]
  },
  {
   "cell_type": "markdown",
   "metadata": {},
   "source": [
    "Tag Association is a better estimate than the average rating 60% of the time."
   ]
  },
  {
   "cell_type": "code",
   "execution_count": 13,
   "metadata": {},
   "outputs": [],
   "source": [
    "means = ddply(bigList2, .(round(predictions*10)/10), function(x)data.frame(\n",
    "    count=nrow(x),meanPrediction=mean(x$predictions),meanActualRating=mean(x$actualRating)))\n",
    "    "
   ]
  },
  {
   "cell_type": "code",
   "execution_count": 14,
   "metadata": {
    "scrolled": false
   },
   "outputs": [
    {
     "data": {},
     "metadata": {},
     "output_type": "display_data"
    },
    {
     "data": {
      "image/png": "[encoded data removed]",
      "text/plain": [
       "plot without title"
      ]
     },
     "metadata": {},
     "output_type": "display_data"
    }
   ],
   "source": [
    "ggplot(bigList2, aes(x=predictions, y=actualRating, ))+geom_jitter(height=0.1, width=0,aes(color=as.factor(userId)))+\n",
    "geom_point(data=means, aes(x=meanPrediction, y=meanActualRating),size=2)+\n",
    "stat_function(fun=function(x)x)+\n",
    "theme(legend.position = \"none\")+xlab(\"Peer Prediction\")+ylab(\"Actual Rating\")"
   ]
  },
  {
   "cell_type": "markdown",
   "metadata": {},
   "source": [
    "It looks like actually that rather than the average rating, each users own average rating would be a better null hypothesis."
   ]
  },
  {
   "cell_type": "code",
   "execution_count": 15,
   "metadata": {},
   "outputs": [
    {
     "data": {
      "text/html": [
       "<table>\n",
       "<thead><tr><th scope=col>userId</th><th scope=col>meanRating</th></tr></thead>\n",
       "<tbody>\n",
       "\t<tr><td>24688   </td><td>3.044101</td></tr>\n",
       "\t<tr><td>71975   </td><td>3.054516</td></tr>\n",
       "\t<tr><td> 8963   </td><td>3.025311</td></tr>\n",
       "\t<tr><td>92011   </td><td>3.511718</td></tr>\n",
       "\t<tr><td>92269   </td><td>2.871891</td></tr>\n",
       "\t<tr><td>26867   </td><td>3.106551</td></tr>\n",
       "</tbody>\n",
       "</table>\n"
      ],
      "text/latex": [
       "\\begin{tabular}{r|ll}\n",
       " userId & meanRating\\\\\n",
       "\\hline\n",
       "\t 24688    & 3.044101\\\\\n",
       "\t 71975    & 3.054516\\\\\n",
       "\t  8963    & 3.025311\\\\\n",
       "\t 92011    & 3.511718\\\\\n",
       "\t 92269    & 2.871891\\\\\n",
       "\t 26867    & 3.106551\\\\\n",
       "\\end{tabular}\n"
      ],
      "text/markdown": [
       "\n",
       "userId | meanRating | \n",
       "|---|---|---|---|---|---|\n",
       "| 24688    | 3.044101 | \n",
       "| 71975    | 3.054516 | \n",
       "|  8963    | 3.025311 | \n",
       "| 92011    | 3.511718 | \n",
       "| 92269    | 2.871891 | \n",
       "| 26867    | 3.106551 | \n",
       "\n",
       "\n"
      ],
      "text/plain": [
       "  userId meanRating\n",
       "1 24688  3.044101  \n",
       "2 71975  3.054516  \n",
       "3  8963  3.025311  \n",
       "4 92011  3.511718  \n",
       "5 92269  2.871891  \n",
       "6 26867  3.106551  "
      ]
     },
     "metadata": {},
     "output_type": "display_data"
    }
   ],
   "source": [
    "userMeanRatings = data.frame(userId = unique(powerUserRatings$userId), \n",
    "                             meanRating =rep(0,length(unique(powerUserRatings$userId))))\n",
    "for(i in 1:length(unique(powerUserRatings$userId)))\n",
    "    userMeanRatings$meanRating[i] =mean(subset(powerUserRatings, userId == unique(powerUserRatings$userId)[i])$rating)\n",
    "    \n",
    "head(userMeanRatings)"
   ]
  },
  {
   "cell_type": "code",
   "execution_count": 16,
   "metadata": {},
   "outputs": [
    {
     "data": {
      "text/html": [
       "<table>\n",
       "<thead><tr><th scope=col>userId</th><th scope=col>movieId</th><th scope=col>predictions</th><th scope=col>actualRating</th><th scope=col>differenceFromMean</th><th scope=col>differenceFromPrediction</th><th scope=col>meanRating</th><th scope=col>differenceFromUserRating</th></tr></thead>\n",
       "<tbody>\n",
       "\t<tr><td>8405      </td><td> 1        </td><td>3.354521  </td><td>5.0       </td><td>1.93743561</td><td>1.6454795 </td><td>3.206522  </td><td>1.7934783 </td></tr>\n",
       "\t<tr><td>8405      </td><td> 2        </td><td>3.129721  </td><td>3.0       </td><td>0.06256439</td><td>0.1297215 </td><td>3.206522  </td><td>0.2065217 </td></tr>\n",
       "\t<tr><td>8405      </td><td> 5        </td><td>2.830976  </td><td>1.5       </td><td>1.56256439</td><td>1.3309757 </td><td>3.206522  </td><td>1.7065217 </td></tr>\n",
       "\t<tr><td>8405      </td><td> 6        </td><td>3.568942  </td><td>4.0       </td><td>0.93743561</td><td>0.4310579 </td><td>3.206522  </td><td>0.7934783 </td></tr>\n",
       "\t<tr><td>8405      </td><td> 7        </td><td>3.260657  </td><td>2.5       </td><td>0.56256439</td><td>0.7606566 </td><td>3.206522  </td><td>0.7065217 </td></tr>\n",
       "\t<tr><td>8405      </td><td>10        </td><td>3.216139  </td><td>2.5       </td><td>0.56256439</td><td>0.7161389 </td><td>3.206522  </td><td>0.7065217 </td></tr>\n",
       "</tbody>\n",
       "</table>\n"
      ],
      "text/latex": [
       "\\begin{tabular}{r|llllllll}\n",
       " userId & movieId & predictions & actualRating & differenceFromMean & differenceFromPrediction & meanRating & differenceFromUserRating\\\\\n",
       "\\hline\n",
       "\t 8405       &  1         & 3.354521   & 5.0        & 1.93743561 & 1.6454795  & 3.206522   & 1.7934783 \\\\\n",
       "\t 8405       &  2         & 3.129721   & 3.0        & 0.06256439 & 0.1297215  & 3.206522   & 0.2065217 \\\\\n",
       "\t 8405       &  5         & 2.830976   & 1.5        & 1.56256439 & 1.3309757  & 3.206522   & 1.7065217 \\\\\n",
       "\t 8405       &  6         & 3.568942   & 4.0        & 0.93743561 & 0.4310579  & 3.206522   & 0.7934783 \\\\\n",
       "\t 8405       &  7         & 3.260657   & 2.5        & 0.56256439 & 0.7606566  & 3.206522   & 0.7065217 \\\\\n",
       "\t 8405       & 10         & 3.216139   & 2.5        & 0.56256439 & 0.7161389  & 3.206522   & 0.7065217 \\\\\n",
       "\\end{tabular}\n"
      ],
      "text/markdown": [
       "\n",
       "userId | movieId | predictions | actualRating | differenceFromMean | differenceFromPrediction | meanRating | differenceFromUserRating | \n",
       "|---|---|---|---|---|---|\n",
       "| 8405       |  1         | 3.354521   | 5.0        | 1.93743561 | 1.6454795  | 3.206522   | 1.7934783  | \n",
       "| 8405       |  2         | 3.129721   | 3.0        | 0.06256439 | 0.1297215  | 3.206522   | 0.2065217  | \n",
       "| 8405       |  5         | 2.830976   | 1.5        | 1.56256439 | 1.3309757  | 3.206522   | 1.7065217  | \n",
       "| 8405       |  6         | 3.568942   | 4.0        | 0.93743561 | 0.4310579  | 3.206522   | 0.7934783  | \n",
       "| 8405       |  7         | 3.260657   | 2.5        | 0.56256439 | 0.7606566  | 3.206522   | 0.7065217  | \n",
       "| 8405       | 10         | 3.216139   | 2.5        | 0.56256439 | 0.7161389  | 3.206522   | 0.7065217  | \n",
       "\n",
       "\n"
      ],
      "text/plain": [
       "  userId movieId predictions actualRating differenceFromMean\n",
       "1 8405    1      3.354521    5.0          1.93743561        \n",
       "2 8405    2      3.129721    3.0          0.06256439        \n",
       "3 8405    5      2.830976    1.5          1.56256439        \n",
       "4 8405    6      3.568942    4.0          0.93743561        \n",
       "5 8405    7      3.260657    2.5          0.56256439        \n",
       "6 8405   10      3.216139    2.5          0.56256439        \n",
       "  differenceFromPrediction meanRating differenceFromUserRating\n",
       "1 1.6454795                3.206522   1.7934783               \n",
       "2 0.1297215                3.206522   0.2065217               \n",
       "3 1.3309757                3.206522   1.7065217               \n",
       "4 0.4310579                3.206522   0.7934783               \n",
       "5 0.7606566                3.206522   0.7065217               \n",
       "6 0.7161389                3.206522   0.7065217               "
      ]
     },
     "metadata": {},
     "output_type": "display_data"
    }
   ],
   "source": [
    "bigListWithUserMeanRatings=merge(bigList2, userMeanRatings)\n",
    "bigListWithUserMeanRatings$differenceFromUserRating =\n",
    "abs(bigListWithUserMeanRatings$meanRating - bigListWithUserMeanRatings$actualRating)\n",
    "head(bigListWithUserMeanRatings)"
   ]
  },
  {
   "cell_type": "code",
   "execution_count": 17,
   "metadata": {},
   "outputs": [
    {
     "data": {
      "text/html": [
       "14367"
      ],
      "text/latex": [
       "14367"
      ],
      "text/markdown": [
       "14367"
      ],
      "text/plain": [
       "[1] 14367"
      ]
     },
     "metadata": {},
     "output_type": "display_data"
    },
    {
     "data": {
      "text/html": [
       "20475"
      ],
      "text/latex": [
       "20475"
      ],
      "text/markdown": [
       "20475"
      ],
      "text/plain": [
       "[1] 20475"
      ]
     },
     "metadata": {},
     "output_type": "display_data"
    },
    {
     "data": {
      "text/html": [
       "0.587652832788015"
      ],
      "text/latex": [
       "0.587652832788015"
      ],
      "text/markdown": [
       "0.587652832788015"
      ],
      "text/plain": [
       "[1] 0.5876528"
      ]
     },
     "metadata": {},
     "output_type": "display_data"
    },
    {
     "data": {
      "text/html": [
       "0.00263718372243685"
      ],
      "text/latex": [
       "0.00263718372243685"
      ],
      "text/markdown": [
       "0.00263718372243685"
      ],
      "text/plain": [
       "[1] 0.002637184"
      ]
     },
     "metadata": {},
     "output_type": "display_data"
    }
   ],
   "source": [
    "successes =nrow(subset(bigListWithUserMeanRatings, differenceFromUserRating < differenceFromPrediction))\n",
    "successes\n",
    "failures = nrow(subset(bigListWithUserMeanRatings, differenceFromUserRating > differenceFromPrediction))\n",
    "failures\n",
    " nrow(subset(bigListWithUserMeanRatings, differenceFromUserRating > differenceFromPrediction))/nrow(bigList2)\n",
    "\n",
    "binomialError = sqrt((successes/(successes+failures))*(1 - successes/(successes+failures))/ (successes+failures) )\n",
    "\n",
    "binomialError"
   ]
  },
  {
   "cell_type": "markdown",
   "metadata": {},
   "source": [
    "So while average user rating is better, Tag Association is still an improvement to it. Now, I'll compare the Tag Association to the Peer Prediction to see which is better."
   ]
  },
  {
   "cell_type": "code",
   "execution_count": 18,
   "metadata": {},
   "outputs": [
    {
     "data": {
      "text/html": [
       "<table>\n",
       "<thead><tr><th scope=col>weightedScore</th><th scope=col>weightedVariance</th><th scope=col>weightedSD</th><th scope=col>numberOfReviews</th><th scope=col>actualRating</th><th scope=col>userId</th><th scope=col>movieId</th><th scope=col>differenceFromMean</th><th scope=col>differenceFromPrediction</th></tr></thead>\n",
       "<tbody>\n",
       "\t<tr><td>3.422237  </td><td>0.04350760</td><td>0.2085848 </td><td>13        </td><td>4.0       </td><td> 71975    </td><td>89774     </td><td>0.93300959</td><td>0.5777634 </td></tr>\n",
       "\t<tr><td>3.360179  </td><td>0.12226255</td><td>0.3496606 </td><td>40        </td><td>4.5       </td><td> 92269    </td><td>  150     </td><td>1.43300959</td><td>1.1398207 </td></tr>\n",
       "\t<tr><td>3.805122  </td><td>0.03398034</td><td>0.1843376 </td><td>12        </td><td>4.0       </td><td>111549    </td><td> 6412     </td><td>0.93300959</td><td>0.1948775 </td></tr>\n",
       "\t<tr><td>3.871996  </td><td>0.09317914</td><td>0.3052526 </td><td>23        </td><td>5.0       </td><td> 82418    </td><td> 2726     </td><td>1.93300959</td><td>1.1280042 </td></tr>\n",
       "\t<tr><td>3.858774  </td><td>0.15870883</td><td>0.3983828 </td><td>14        </td><td>3.0       </td><td>130767    </td><td> 3224     </td><td>0.06699041</td><td>0.8587741 </td></tr>\n",
       "\t<tr><td>2.848534  </td><td>0.30808343</td><td>0.5550526 </td><td> 4        </td><td>2.0       </td><td> 14705    </td><td>90061     </td><td>1.06699041</td><td>0.8485337 </td></tr>\n",
       "</tbody>\n",
       "</table>\n"
      ],
      "text/latex": [
       "\\begin{tabular}{r|lllllllll}\n",
       " weightedScore & weightedVariance & weightedSD & numberOfReviews & actualRating & userId & movieId & differenceFromMean & differenceFromPrediction\\\\\n",
       "\\hline\n",
       "\t 3.422237   & 0.04350760 & 0.2085848  & 13         & 4.0        &  71975     & 89774      & 0.93300959 & 0.5777634 \\\\\n",
       "\t 3.360179   & 0.12226255 & 0.3496606  & 40         & 4.5        &  92269     &   150      & 1.43300959 & 1.1398207 \\\\\n",
       "\t 3.805122   & 0.03398034 & 0.1843376  & 12         & 4.0        & 111549     &  6412      & 0.93300959 & 0.1948775 \\\\\n",
       "\t 3.871996   & 0.09317914 & 0.3052526  & 23         & 5.0        &  82418     &  2726      & 1.93300959 & 1.1280042 \\\\\n",
       "\t 3.858774   & 0.15870883 & 0.3983828  & 14         & 3.0        & 130767     &  3224      & 0.06699041 & 0.8587741 \\\\\n",
       "\t 2.848534   & 0.30808343 & 0.5550526  &  4         & 2.0        &  14705     & 90061      & 1.06699041 & 0.8485337 \\\\\n",
       "\\end{tabular}\n"
      ],
      "text/markdown": [
       "\n",
       "weightedScore | weightedVariance | weightedSD | numberOfReviews | actualRating | userId | movieId | differenceFromMean | differenceFromPrediction | \n",
       "|---|---|---|---|---|---|\n",
       "| 3.422237   | 0.04350760 | 0.2085848  | 13         | 4.0        |  71975     | 89774      | 0.93300959 | 0.5777634  | \n",
       "| 3.360179   | 0.12226255 | 0.3496606  | 40         | 4.5        |  92269     |   150      | 1.43300959 | 1.1398207  | \n",
       "| 3.805122   | 0.03398034 | 0.1843376  | 12         | 4.0        | 111549     |  6412      | 0.93300959 | 0.1948775  | \n",
       "| 3.871996   | 0.09317914 | 0.3052526  | 23         | 5.0        |  82418     |  2726      | 1.93300959 | 1.1280042  | \n",
       "| 3.858774   | 0.15870883 | 0.3983828  | 14         | 3.0        | 130767     |  3224      | 0.06699041 | 0.8587741  | \n",
       "| 2.848534   | 0.30808343 | 0.5550526  |  4         | 2.0        |  14705     | 90061      | 1.06699041 | 0.8485337  | \n",
       "\n",
       "\n"
      ],
      "text/plain": [
       "  weightedScore weightedVariance weightedSD numberOfReviews actualRating userId\n",
       "1 3.422237      0.04350760       0.2085848  13              4.0           71975\n",
       "2 3.360179      0.12226255       0.3496606  40              4.5           92269\n",
       "3 3.805122      0.03398034       0.1843376  12              4.0          111549\n",
       "4 3.871996      0.09317914       0.3052526  23              5.0           82418\n",
       "5 3.858774      0.15870883       0.3983828  14              3.0          130767\n",
       "6 2.848534      0.30808343       0.5550526   4              2.0           14705\n",
       "  movieId differenceFromMean differenceFromPrediction\n",
       "1 89774   0.93300959         0.5777634               \n",
       "2   150   1.43300959         1.1398207               \n",
       "3  6412   0.93300959         0.1948775               \n",
       "4  2726   1.93300959         1.1280042               \n",
       "5  3224   0.06699041         0.8587741               \n",
       "6 90061   1.06699041         0.8485337               "
      ]
     },
     "metadata": {},
     "output_type": "display_data"
    },
    {
     "data": {
      "text/html": [
       "<table>\n",
       "<thead><tr><th></th><th scope=col>movieId</th><th scope=col>predictions</th><th scope=col>actualRating</th><th scope=col>differenceFromMean</th><th scope=col>differenceFromPrediction</th><th scope=col>userId</th></tr></thead>\n",
       "<tbody>\n",
       "\t<tr><th scope=row>71975.102</th><td> 4        </td><td>2.903964  </td><td>2         </td><td>1.06256439</td><td>0.90396352</td><td>71975     </td></tr>\n",
       "\t<tr><th scope=row>71975.544</th><td>14        </td><td>3.267593  </td><td>3         </td><td>0.06256439</td><td>0.26759276</td><td>71975     </td></tr>\n",
       "\t<tr><th scope=row>71975.620</th><td>16        </td><td>3.444335  </td><td>4         </td><td>0.93743561</td><td>0.55566498</td><td>71975     </td></tr>\n",
       "\t<tr><th scope=row>71975.469</th><td>31        </td><td>3.053701  </td><td>3         </td><td>0.06256439</td><td>0.05370065</td><td>71975     </td></tr>\n",
       "\t<tr><th scope=row>71975.283</th><td>34        </td><td>3.360076  </td><td>4         </td><td>0.93743561</td><td>0.63992396</td><td>71975     </td></tr>\n",
       "\t<tr><th scope=row>71975.445</th><td>39        </td><td>3.247095  </td><td>3         </td><td>0.06256439</td><td>0.24709499</td><td>71975     </td></tr>\n",
       "</tbody>\n",
       "</table>\n"
      ],
      "text/latex": [
       "\\begin{tabular}{r|llllll}\n",
       "  & movieId & predictions & actualRating & differenceFromMean & differenceFromPrediction & userId\\\\\n",
       "\\hline\n",
       "\t71975.102 &  4         & 2.903964   & 2          & 1.06256439 & 0.90396352 & 71975     \\\\\n",
       "\t71975.544 & 14         & 3.267593   & 3          & 0.06256439 & 0.26759276 & 71975     \\\\\n",
       "\t71975.620 & 16         & 3.444335   & 4          & 0.93743561 & 0.55566498 & 71975     \\\\\n",
       "\t71975.469 & 31         & 3.053701   & 3          & 0.06256439 & 0.05370065 & 71975     \\\\\n",
       "\t71975.283 & 34         & 3.360076   & 4          & 0.93743561 & 0.63992396 & 71975     \\\\\n",
       "\t71975.445 & 39         & 3.247095   & 3          & 0.06256439 & 0.24709499 & 71975     \\\\\n",
       "\\end{tabular}\n"
      ],
      "text/markdown": [
       "\n",
       "| <!--/--> | movieId | predictions | actualRating | differenceFromMean | differenceFromPrediction | userId | \n",
       "|---|---|---|---|---|---|\n",
       "| 71975.102 |  4         | 2.903964   | 2          | 1.06256439 | 0.90396352 | 71975      | \n",
       "| 71975.544 | 14         | 3.267593   | 3          | 0.06256439 | 0.26759276 | 71975      | \n",
       "| 71975.620 | 16         | 3.444335   | 4          | 0.93743561 | 0.55566498 | 71975      | \n",
       "| 71975.469 | 31         | 3.053701   | 3          | 0.06256439 | 0.05370065 | 71975      | \n",
       "| 71975.283 | 34         | 3.360076   | 4          | 0.93743561 | 0.63992396 | 71975      | \n",
       "| 71975.445 | 39         | 3.247095   | 3          | 0.06256439 | 0.24709499 | 71975      | \n",
       "\n",
       "\n"
      ],
      "text/plain": [
       "          movieId predictions actualRating differenceFromMean\n",
       "71975.102  4      2.903964    2            1.06256439        \n",
       "71975.544 14      3.267593    3            0.06256439        \n",
       "71975.620 16      3.444335    4            0.93743561        \n",
       "71975.469 31      3.053701    3            0.06256439        \n",
       "71975.283 34      3.360076    4            0.93743561        \n",
       "71975.445 39      3.247095    3            0.06256439        \n",
       "          differenceFromPrediction userId\n",
       "71975.102 0.90396352               71975 \n",
       "71975.544 0.26759276               71975 \n",
       "71975.620 0.55566498               71975 \n",
       "71975.469 0.05370065               71975 \n",
       "71975.283 0.63992396               71975 \n",
       "71975.445 0.24709499               71975 "
      ]
     },
     "metadata": {},
     "output_type": "display_data"
    },
    {
     "data": {
      "text/html": [
       "34842"
      ],
      "text/latex": [
       "34842"
      ],
      "text/markdown": [
       "34842"
      ],
      "text/plain": [
       "[1] 34842"
      ]
     },
     "metadata": {},
     "output_type": "display_data"
    },
    {
     "data": {
      "text/html": [
       "38162"
      ],
      "text/latex": [
       "38162"
      ],
      "text/markdown": [
       "38162"
      ],
      "text/plain": [
       "[1] 38162"
      ]
     },
     "metadata": {},
     "output_type": "display_data"
    }
   ],
   "source": [
    "ListOfPredictionsWithoutNans=read.table(\"C:/temp/ListOfPredictionsForComparision.txt\")\n",
    "head(ListOfPredictionsWithoutNans)\n",
    "head(bigList2)\n",
    "\n",
    "nrow(bigList2)\n",
    "nrow(ListOfPredictionsWithoutNans)"
   ]
  },
  {
   "cell_type": "code",
   "execution_count": 19,
   "metadata": {},
   "outputs": [
    {
     "data": {
      "text/html": [
       "34619"
      ],
      "text/latex": [
       "34619"
      ],
      "text/markdown": [
       "34619"
      ],
      "text/plain": [
       "[1] 34619"
      ]
     },
     "metadata": {},
     "output_type": "display_data"
    },
    {
     "data": {
      "text/html": [
       "<table>\n",
       "<thead><tr><th scope=col>userId</th><th scope=col>movieId</th><th scope=col>peerPrediction</th><th scope=col>peerDifferenceFromPrediction</th><th scope=col>actualRating</th><th scope=col>tagAssociation</th><th scope=col>tagDifferenceFromPrediction</th></tr></thead>\n",
       "<tbody>\n",
       "\t<tr><td>105580    </td><td>1035      </td><td>2.698671  </td><td>2.30132891</td><td>5.0       </td><td>2.616725  </td><td>2.3832754 </td></tr>\n",
       "\t<tr><td>105580    </td><td>1037      </td><td>2.239702  </td><td>1.23970164</td><td>1.0       </td><td>2.500586  </td><td>1.5005858 </td></tr>\n",
       "\t<tr><td>105580    </td><td>1047      </td><td>2.404896  </td><td>0.59510394</td><td>3.0       </td><td>2.510756  </td><td>0.4892439 </td></tr>\n",
       "\t<tr><td>105580    </td><td> 105      </td><td>2.361594  </td><td>0.13840637</td><td>2.5       </td><td>2.603500  </td><td>0.1035001 </td></tr>\n",
       "\t<tr><td>105580    </td><td>1059      </td><td>2.485096  </td><td>0.98509604</td><td>1.5       </td><td>2.510980  </td><td>1.0109797 </td></tr>\n",
       "\t<tr><td>105580    </td><td>1068      </td><td>2.589442  </td><td>0.08944165</td><td>2.5       </td><td>2.695720  </td><td>0.1957199 </td></tr>\n",
       "</tbody>\n",
       "</table>\n"
      ],
      "text/latex": [
       "\\begin{tabular}{r|lllllll}\n",
       " userId & movieId & peerPrediction & peerDifferenceFromPrediction & actualRating & tagAssociation & tagDifferenceFromPrediction\\\\\n",
       "\\hline\n",
       "\t 105580     & 1035       & 2.698671   & 2.30132891 & 5.0        & 2.616725   & 2.3832754 \\\\\n",
       "\t 105580     & 1037       & 2.239702   & 1.23970164 & 1.0        & 2.500586   & 1.5005858 \\\\\n",
       "\t 105580     & 1047       & 2.404896   & 0.59510394 & 3.0        & 2.510756   & 0.4892439 \\\\\n",
       "\t 105580     &  105       & 2.361594   & 0.13840637 & 2.5        & 2.603500   & 0.1035001 \\\\\n",
       "\t 105580     & 1059       & 2.485096   & 0.98509604 & 1.5        & 2.510980   & 1.0109797 \\\\\n",
       "\t 105580     & 1068       & 2.589442   & 0.08944165 & 2.5        & 2.695720   & 0.1957199 \\\\\n",
       "\\end{tabular}\n"
      ],
      "text/markdown": [
       "\n",
       "userId | movieId | peerPrediction | peerDifferenceFromPrediction | actualRating | tagAssociation | tagDifferenceFromPrediction | \n",
       "|---|---|---|---|---|---|\n",
       "| 105580     | 1035       | 2.698671   | 2.30132891 | 5.0        | 2.616725   | 2.3832754  | \n",
       "| 105580     | 1037       | 2.239702   | 1.23970164 | 1.0        | 2.500586   | 1.5005858  | \n",
       "| 105580     | 1047       | 2.404896   | 0.59510394 | 3.0        | 2.510756   | 0.4892439  | \n",
       "| 105580     |  105       | 2.361594   | 0.13840637 | 2.5        | 2.603500   | 0.1035001  | \n",
       "| 105580     | 1059       | 2.485096   | 0.98509604 | 1.5        | 2.510980   | 1.0109797  | \n",
       "| 105580     | 1068       | 2.589442   | 0.08944165 | 2.5        | 2.695720   | 0.1957199  | \n",
       "\n",
       "\n"
      ],
      "text/plain": [
       "  userId movieId peerPrediction peerDifferenceFromPrediction actualRating\n",
       "1 105580 1035    2.698671       2.30132891                   5.0         \n",
       "2 105580 1037    2.239702       1.23970164                   1.0         \n",
       "3 105580 1047    2.404896       0.59510394                   3.0         \n",
       "4 105580  105    2.361594       0.13840637                   2.5         \n",
       "5 105580 1059    2.485096       0.98509604                   1.5         \n",
       "6 105580 1068    2.589442       0.08944165                   2.5         \n",
       "  tagAssociation tagDifferenceFromPrediction\n",
       "1 2.616725       2.3832754                  \n",
       "2 2.500586       1.5005858                  \n",
       "3 2.510756       0.4892439                  \n",
       "4 2.603500       0.1035001                  \n",
       "5 2.510980       1.0109797                  \n",
       "6 2.695720       0.1957199                  "
      ]
     },
     "metadata": {},
     "output_type": "display_data"
    }
   ],
   "source": [
    "CompareModels=merge(rename(ListOfPredictionsWithoutNans[c(\"userId\",\"movieId\",\"weightedScore\",\"differenceFromPrediction\",\n",
    "\"actualRating\")], c(\"differenceFromPrediction\"=\"peerDifferenceFromPrediction\",\"weightedScore\"=\"peerPrediction\")),\n",
    "rename(bigList2[c(\"userId\",\"movieId\",\"predictions\",\"differenceFromPrediction\")],\n",
    "c(\"differenceFromPrediction\"=\"tagDifferenceFromPrediction\",\"predictions\"=\"tagAssociation\")))\n",
    "\n",
    "nrow(CompareModels)\n",
    "head(CompareModels)"
   ]
  },
  {
   "cell_type": "code",
   "execution_count": 20,
   "metadata": {
    "scrolled": false
   },
   "outputs": [
    {
     "data": {},
     "metadata": {},
     "output_type": "display_data"
    },
    {
     "data": {
      "image/png": "[encoded data removed]",
      "text/plain": [
       "plot without title"
      ]
     },
     "metadata": {},
     "output_type": "display_data"
    }
   ],
   "source": [
    "ggplot(CompareModels, aes(x=peerPrediction, y=tagAssociation, \n",
    "                          color=peerDifferenceFromPrediction < tagDifferenceFromPrediction))+geom_point()+\n",
    "theme(legend.position = \"none\")"
   ]
  },
  {
   "cell_type": "code",
   "execution_count": 21,
   "metadata": {},
   "outputs": [
    {
     "data": {
      "text/html": [
       "34619"
      ],
      "text/latex": [
       "34619"
      ],
      "text/markdown": [
       "34619"
      ],
      "text/plain": [
       "[1] 34619"
      ]
     },
     "metadata": {},
     "output_type": "display_data"
    },
    {
     "data": {
      "text/html": [
       "20007"
      ],
      "text/latex": [
       "20007"
      ],
      "text/markdown": [
       "20007"
      ],
      "text/plain": [
       "[1] 20007"
      ]
     },
     "metadata": {},
     "output_type": "display_data"
    },
    {
     "data": {
      "text/html": [
       "14612"
      ],
      "text/latex": [
       "14612"
      ],
      "text/markdown": [
       "14612"
      ],
      "text/plain": [
       "[1] 14612"
      ]
     },
     "metadata": {},
     "output_type": "display_data"
    },
    {
     "data": {
      "text/html": [
       "0.577919639504318"
      ],
      "text/latex": [
       "0.577919639504318"
      ],
      "text/markdown": [
       "0.577919639504318"
      ],
      "text/plain": [
       "[1] 0.5779196"
      ]
     },
     "metadata": {},
     "output_type": "display_data"
    },
    {
     "data": {
      "text/html": [
       "0.590056095171534"
      ],
      "text/latex": [
       "0.590056095171534"
      ],
      "text/markdown": [
       "0.590056095171534"
      ],
      "text/plain": [
       "[1] 0.5900561"
      ]
     },
     "metadata": {},
     "output_type": "display_data"
    },
    {
     "data": {
      "text/html": [
       "0.634071268488442"
      ],
      "text/latex": [
       "0.634071268488442"
      ],
      "text/markdown": [
       "0.634071268488442"
      ],
      "text/plain": [
       "[1] 0.6340713"
      ]
     },
     "metadata": {},
     "output_type": "display_data"
    }
   ],
   "source": [
    "nrow(CompareModels)\n",
    "peerBetter = nrow(subset(CompareModels,peerDifferenceFromPrediction < tagDifferenceFromPrediction))\n",
    "peerBetter\n",
    "tagBetter = nrow(subset(CompareModels,tagDifferenceFromPrediction < peerDifferenceFromPrediction))\n",
    "tagBetter\n",
    "\n",
    "peerBetter/nrow(CompareModels)\n",
    "\n",
    "averagePeerError=sum(CompareModels$peerDifferenceFromPrediction)/nrow(CompareModels)\n",
    "averagePeerError\n",
    "averageTagError=sum(CompareModels$tagDifferenceFromPrediction)/nrow(CompareModels)\n",
    "averageTagError"
   ]
  },
  {
   "cell_type": "markdown",
   "metadata": {},
   "source": [
    "So while the two models show a lot of correlation, peerPrediction is the marginally better predictor. It is possible that some combination of the two models could yield an even better version."
   ]
  },
  {
   "cell_type": "markdown",
   "metadata": {},
   "source": [
    "__Conclusion__\n",
    "\n",
    "There are many potential problems with a number of the assumptions I have made here. Firstly I have assumed somewhat naively that a five star rating system behaves somewhat linearly, when in reality of course the relationship is somewhat more complex, and especially within this dataset where half stars are allowed but not used to the extent that perhaps they should. Modelling the relationship between two users’ ratings as linear is reasonable, but not ideal when the scale takes specific discrete values, which are limited at both ends. The same can be said of modelling relevance as having a linear relationship with the ratings. \n",
    "\n",
    "I also for my PC’s health limited myself to looking exclusively at the ‘power users’ and limiting the tags to a random sample of 100. Whlie it seems possible that increasing the number of users to those with much fewer film watches could potentially lead to problems among those users, although on the whole the model would be improved by taking into account more users.\n",
    "\n",
    "There is also potentially a problem with the method in which I have compared hypotheses. I have been looking solely at the number of occasions on which the model is closer to the rating than the alternative model. It could be that the model makes tiny improvements to 70% of observations and then is wildly inaccurate for the remaining 30%, and yet with this methodology it would be deemed a better model."
   ]
  }
 ],
 "metadata": {
  "kernelspec": {
   "display_name": "R",
   "language": "R",
   "name": "ir"
  },
  "language_info": {
   "codemirror_mode": "r",
   "file_extension": ".r",
   "mimetype": "text/x-r-source",
   "name": "R",
   "pygments_lexer": "r",
   "version": "3.3.2"
  }
 },
 "nbformat": 4,
 "nbformat_minor": 2
}
